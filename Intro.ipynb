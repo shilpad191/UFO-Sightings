{
 "metadata": {
  "kernelspec": {
   "codemirror_mode": {
    "name": "ipython",
    "version": 2
   },
   "display_name": "IPython (Python 2)",
   "language": "python",
   "name": "python2"
  },
  "name": "",
  "signature": "sha256:589ea223998045ce59397197e228829ec7c197140113e8da358305e1f15e5f23"
 },
 "nbformat": 3,
 "nbformat_minor": 0,
 "worksheets": [
  {
   "cells": [
    {
     "cell_type": "markdown",
     "metadata": {},
     "source": [
      "For maximum effect, please begin by reading the story we have setup:\n",
      "\n",
      "* [Story Book.ipynb](Story Book.ipynb)\n",
      "\n",
      "You can then go into the extra analysis which will show off a few graphs that did not make it to the final presentation:\n",
      "\n",
      "* [Extra Analysis.ipynb](Extra Analysis.ipynb)\n"
     ]
    },
    {
     "cell_type": "markdown",
     "metadata": {},
     "source": [
      "At this point, you may be interested in the \"under the hood\" type stuff. Basically, all the proces we went through cleaning the data:\n",
      "\n",
      "* [Cleaning Air Force Bases Data.ipynb](Cleaning Air Force Bases Data.ipynb)\n",
      "\n",
      "* [Cleaning Military Spending Data.ipynb](Cleaning Military Spending Data.ipynb)\n",
      "\n",
      "* [Cleaning Movie Data.ipynb](Cleaning Movie Data.ipynb)\n",
      "\n",
      "* [Cleaning Population Data.ipynb](Cleaning Population Data.ipynb)\n",
      "\n",
      "* [Cleaning UFO Data.ipynb](Cleaning UFO Data.ipynb)\n",
      "\n",
      "* [Creating Heatmaps.ipynb](Creating Heatmaps.ipynb)\n"
     ]
    },
    {
     "cell_type": "markdown",
     "metadata": {},
     "source": [
      "Hope you enjoy!"
     ]
    },
    {
     "cell_type": "markdown",
     "metadata": {},
     "source": [
      "<font>\n",
      "Sincerely,<br>\n",
      "Gabriel Monroy<br>\n",
      "Shilpa Deshmukh<br>\n",
      "Mrinalini Shekhawat<br></font>"
     ]
    },
    {
     "cell_type": "code",
     "collapsed": false,
     "input": [],
     "language": "python",
     "metadata": {},
     "outputs": []
    }
   ],
   "metadata": {}
  }
 ]
}