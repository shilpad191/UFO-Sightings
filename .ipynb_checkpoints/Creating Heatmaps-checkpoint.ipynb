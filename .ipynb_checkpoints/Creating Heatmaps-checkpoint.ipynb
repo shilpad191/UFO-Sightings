{
 "metadata": {
  "kernelspec": {
   "codemirror_mode": {
    "name": "ipython",
    "version": 2
   },
   "display_name": "IPython (Python 2)",
   "language": "python",
   "name": "python2"
  },
  "name": "",
  "signature": "sha256:14b74609de1610e0d75b9d7101548a4b7c96b34be1d467316f2be34a5990d059"
 },
 "nbformat": 3,
 "nbformat_minor": 0,
 "worksheets": [
  {
   "cells": [
    {
     "cell_type": "heading",
     "level": 1,
     "metadata": {},
     "source": [
      "Challenge Area - Heatmaps with Folium"
     ]
    },
    {
     "cell_type": "code",
     "collapsed": false,
     "input": [
      "%matplotlib inline\n",
      "import matplotlib.pyplot as plt\n",
      "import matplotlib\n",
      "import numpy as np\n",
      "import pandas as pd\n",
      "import folium\n",
      "from IPython.display import HTML"
     ],
     "language": "python",
     "metadata": {},
     "outputs": [],
     "prompt_number": 67
    },
    {
     "cell_type": "markdown",
     "metadata": {},
     "source": [
      "Since the main dataset we had to work with contained the number of sightings by state, we decided it would be interested to plot the information in a heat map to get a more visual understanding of any relationships between these sightings and other sets of data. The first set of data we are working with here is the number of air forces by state. Please note that the explanation of the outputs can be found in the \"Story book\" notebook, found here:\n",
      "* [Story book.ipynb](Story book.ipynb)\n"
     ]
    },
    {
     "cell_type": "heading",
     "level": 2,
     "metadata": {},
     "source": [
      "Air Force Bases by State"
     ]
    },
    {
     "cell_type": "markdown",
     "metadata": {},
     "source": [
      "We begin by saving the shape file of the united states to the variable jsonshape. We will use this same value throughout this notebook as all data sets wil use it for mapping. the variable base_file contains the path to the clean Air force bases csv."
     ]
    },
    {
     "cell_type": "code",
     "collapsed": false,
     "input": [
      "jsonshape = r'Shape_files/stateshape2.json'\n",
      "base_file = r'Clean_data/AFbases_per_state'"
     ],
     "language": "python",
     "metadata": {},
     "outputs": [],
     "prompt_number": 68
    },
    {
     "cell_type": "markdown",
     "metadata": {},
     "source": [
      "We will now import the csv with column headers named \"State\" and \"Bases\". \"Bases\" is the number of AF bases within that state."
     ]
    },
    {
     "cell_type": "code",
     "collapsed": false,
     "input": [
      "base_data = pd.read_csv(base_file, names = ['State', 'Bases'])"
     ],
     "language": "python",
     "metadata": {},
     "outputs": [],
     "prompt_number": 69
    },
    {
     "cell_type": "code",
     "collapsed": false,
     "input": [
      "base_data.head()"
     ],
     "language": "python",
     "metadata": {},
     "outputs": [
      {
       "html": [
        "<div style=\"max-height:1000px;max-width:1500px;overflow:auto;\">\n",
        "<table border=\"1\" class=\"dataframe\">\n",
        "  <thead>\n",
        "    <tr style=\"text-align: right;\">\n",
        "      <th></th>\n",
        "      <th>State</th>\n",
        "      <th>Bases</th>\n",
        "    </tr>\n",
        "  </thead>\n",
        "  <tbody>\n",
        "    <tr>\n",
        "      <th>0</th>\n",
        "      <td> AK</td>\n",
        "      <td> 2</td>\n",
        "    </tr>\n",
        "    <tr>\n",
        "      <th>1</th>\n",
        "      <td> AL</td>\n",
        "      <td> 1</td>\n",
        "    </tr>\n",
        "    <tr>\n",
        "      <th>2</th>\n",
        "      <td> AR</td>\n",
        "      <td> 2</td>\n",
        "    </tr>\n",
        "    <tr>\n",
        "      <th>3</th>\n",
        "      <td> AZ</td>\n",
        "      <td> 1</td>\n",
        "    </tr>\n",
        "    <tr>\n",
        "      <th>4</th>\n",
        "      <td> CA</td>\n",
        "      <td> 5</td>\n",
        "    </tr>\n",
        "  </tbody>\n",
        "</table>\n",
        "</div>"
       ],
       "metadata": {},
       "output_type": "pyout",
       "prompt_number": 70,
       "text": [
        "  State  Bases\n",
        "0    AK      2\n",
        "1    AL      1\n",
        "2    AR      2\n",
        "3    AZ      1\n",
        "4    CA      5"
       ]
      }
     ],
     "prompt_number": 70
    },
    {
     "cell_type": "markdown",
     "metadata": {},
     "source": [
      "The following is where we map the data to the json shapefile. It then gets overlayed a leaflet map provided by folium. We chose stamen toner as it has the black background which allows the colors to be distringuished better. The location coordinates allws the map to begin centered around the USA. We define the columns to map on with the \"colunms\" keyword. We decided on the Yellow-Red spectrum as it may be more vibrant to distinguish during the presentation. We introduce the threshold_scale to ensure that the bins and their values/color scheme are displayed properly. Finally we map the data and save it to an html file."
     ]
    },
    {
     "cell_type": "code",
     "collapsed": false,
     "input": [
      "basemap = folium.Map(location=[48, -102],tiles='Stamen Toner', zoom_start=3)\n",
      "basemap.geo_json(geo_path=jsonshape, data=base_data,\n",
      "                 columns=['State', 'Bases'],\n",
      "                   key_on = 'feature.id',\n",
      "                   threshold_scale=[0, 1, 2, 3, 4, 5],\n",
      "                   fill_color='YlOrRd', fill_opacity=0.7, line_opacity=0.2,\n",
      "                   legend_name='No. of AF Bases')\n",
      "basemap.create_map(path='AFbases_per_state.html')"
     ],
     "language": "python",
     "metadata": {},
     "outputs": [],
     "prompt_number": 71
    },
    {
     "cell_type": "markdown",
     "metadata": {},
     "source": [
      "Using Ipython display, we show off the html file that was created using folium and our cleaned data."
     ]
    },
    {
     "cell_type": "code",
     "collapsed": false,
     "input": [
      "HTML('<iframe src=AFbases_per_state.html width=\"980\" height=\"400\"></iframe>')"
     ],
     "language": "python",
     "metadata": {},
     "outputs": [
      {
       "html": [
        "<iframe src=AFbases_per_state.html width=\"980\" height=\"400\"></iframe>"
       ],
       "metadata": {},
       "output_type": "pyout",
       "prompt_number": 72,
       "text": [
        "<IPython.core.display.HTML object>"
       ]
      }
     ],
     "prompt_number": 72
    },
    {
     "cell_type": "heading",
     "level": 2,
     "metadata": {},
     "source": [
      "Historical Sightings by State"
     ]
    },
    {
     "cell_type": "markdown",
     "metadata": {},
     "source": [
      "The next data set we decided to map with folium was the number of historical sightings by state. We begin by saving the pathname to be called with folium. Please note as state earlier, we are using the same jsonshape variable (and path) for all data heatmaps."
     ]
    },
    {
     "cell_type": "code",
     "collapsed": false,
     "input": [
      "sighting_data = r'Clean_data\\Sightings_by_state'"
     ],
     "language": "python",
     "metadata": {},
     "outputs": [],
     "prompt_number": 73
    },
    {
     "cell_type": "code",
     "collapsed": false,
     "input": [
      "sight_data = pd.read_csv(sighting_data, names = ['State', 'Sightings'])"
     ],
     "language": "python",
     "metadata": {},
     "outputs": [],
     "prompt_number": 74
    },
    {
     "cell_type": "code",
     "collapsed": false,
     "input": [
      "sight_data.head()"
     ],
     "language": "python",
     "metadata": {},
     "outputs": [
      {
       "html": [
        "<div style=\"max-height:1000px;max-width:1500px;overflow:auto;\">\n",
        "<table border=\"1\" class=\"dataframe\">\n",
        "  <thead>\n",
        "    <tr style=\"text-align: right;\">\n",
        "      <th></th>\n",
        "      <th>State</th>\n",
        "      <th>Sightings</th>\n",
        "    </tr>\n",
        "  </thead>\n",
        "  <tbody>\n",
        "    <tr>\n",
        "      <th>0</th>\n",
        "      <td> AB</td>\n",
        "      <td>  395</td>\n",
        "    </tr>\n",
        "    <tr>\n",
        "      <th>1</th>\n",
        "      <td> AK</td>\n",
        "      <td>  393</td>\n",
        "    </tr>\n",
        "    <tr>\n",
        "      <th>2</th>\n",
        "      <td> AL</td>\n",
        "      <td>  811</td>\n",
        "    </tr>\n",
        "    <tr>\n",
        "      <th>3</th>\n",
        "      <td> AR</td>\n",
        "      <td>  734</td>\n",
        "    </tr>\n",
        "    <tr>\n",
        "      <th>4</th>\n",
        "      <td> AZ</td>\n",
        "      <td> 2992</td>\n",
        "    </tr>\n",
        "  </tbody>\n",
        "</table>\n",
        "</div>"
       ],
       "metadata": {},
       "output_type": "pyout",
       "prompt_number": 75,
       "text": [
        "  State  Sightings\n",
        "0    AB        395\n",
        "1    AK        393\n",
        "2    AL        811\n",
        "3    AR        734\n",
        "4    AZ       2992"
       ]
      }
     ],
     "prompt_number": 75
    },
    {
     "cell_type": "code",
     "collapsed": false,
     "input": [
      "sight_map = folium.Map(location=[48, -102],tiles='Stamen Toner', zoom_start=3)\n",
      "sight_map.geo_json(geo_path=jsonshape, data=sight_data,\n",
      "                   columns=['State', 'Sightings'],\n",
      "                   key_on = 'feature.id',\n",
      "                   threshold_scale=[0, 600, 1200, 1800, 2400, 3000],\n",
      "                   fill_color='YlOrRd', fill_opacity=0.7, line_opacity=0.2,\n",
      "                   legend_name='UFO Sightings')\n",
      "sight_map.create_map(path='Sightings_per_state.html')"
     ],
     "language": "python",
     "metadata": {},
     "outputs": [],
     "prompt_number": 76
    },
    {
     "cell_type": "code",
     "collapsed": false,
     "input": [
      "HTML('<iframe src=Sightings_per_state.html width=\"980\" height=\"400\"></iframe>')"
     ],
     "language": "python",
     "metadata": {},
     "outputs": [
      {
       "html": [
        "<iframe src=Sightings_per_state.html width=\"980\" height=\"400\"></iframe>"
       ],
       "metadata": {},
       "output_type": "pyout",
       "prompt_number": 77,
       "text": [
        "<IPython.core.display.HTML object>"
       ]
      }
     ],
     "prompt_number": 77
    },
    {
     "cell_type": "heading",
     "level": 2,
     "metadata": {},
     "source": [
      "Sightings Per Person per State"
     ]
    },
    {
     "cell_type": "markdown",
     "metadata": {},
     "source": [
      "For the next heatmap, we took the sightings per state data and introduced the population data to it. This gave us sightings per person by state."
     ]
    },
    {
     "cell_type": "code",
     "collapsed": false,
     "input": [
      "#need to finish cleaning population data first\n",
      "sighting_population_data = r'Clean_data/State_Population_Sightings'"
     ],
     "language": "python",
     "metadata": {},
     "outputs": [],
     "prompt_number": 78
    },
    {
     "cell_type": "code",
     "collapsed": false,
     "input": [
      "sightingpop_data = pd.read_csv(sighting_population_data)\n",
      "sightingpop_data.head()"
     ],
     "language": "python",
     "metadata": {},
     "outputs": [
      {
       "html": [
        "<div style=\"max-height:1000px;max-width:1500px;overflow:auto;\">\n",
        "<table border=\"1\" class=\"dataframe\">\n",
        "  <thead>\n",
        "    <tr style=\"text-align: right;\">\n",
        "      <th></th>\n",
        "      <th>State</th>\n",
        "      <th>Population</th>\n",
        "      <th>Posted</th>\n",
        "      <th>SightingPerPerson</th>\n",
        "    </tr>\n",
        "  </thead>\n",
        "  <tbody>\n",
        "    <tr>\n",
        "      <th>0</th>\n",
        "      <td> AL</td>\n",
        "      <td>  4833722</td>\n",
        "      <td>   811</td>\n",
        "      <td> 1.677796</td>\n",
        "    </tr>\n",
        "    <tr>\n",
        "      <th>1</th>\n",
        "      <td> AK</td>\n",
        "      <td>   735132</td>\n",
        "      <td>   393</td>\n",
        "      <td> 5.345979</td>\n",
        "    </tr>\n",
        "    <tr>\n",
        "      <th>2</th>\n",
        "      <td> AZ</td>\n",
        "      <td>  6626624</td>\n",
        "      <td>  2992</td>\n",
        "      <td> 4.515120</td>\n",
        "    </tr>\n",
        "    <tr>\n",
        "      <th>3</th>\n",
        "      <td> AR</td>\n",
        "      <td>  2959373</td>\n",
        "      <td>   734</td>\n",
        "      <td> 2.480255</td>\n",
        "    </tr>\n",
        "    <tr>\n",
        "      <th>4</th>\n",
        "      <td> CA</td>\n",
        "      <td> 38332521</td>\n",
        "      <td> 10537</td>\n",
        "      <td> 2.748841</td>\n",
        "    </tr>\n",
        "  </tbody>\n",
        "</table>\n",
        "</div>"
       ],
       "metadata": {},
       "output_type": "pyout",
       "prompt_number": 79,
       "text": [
        "  State  Population  Posted  SightingPerPerson\n",
        "0    AL     4833722     811           1.677796\n",
        "1    AK      735132     393           5.345979\n",
        "2    AZ     6626624    2992           4.515120\n",
        "3    AR     2959373     734           2.480255\n",
        "4    CA    38332521   10537           2.748841"
       ]
      }
     ],
     "prompt_number": 79
    },
    {
     "cell_type": "code",
     "collapsed": false,
     "input": [
      "sightingpop_data.SightingPerPerson.value_counts()"
     ],
     "language": "python",
     "metadata": {},
     "outputs": [
      {
       "metadata": {},
       "output_type": "pyout",
       "prompt_number": 80,
       "text": [
        "2.101209    1\n",
        "5.569475    1\n",
        "1.601360    1\n",
        "2.285377    1\n",
        "1.778949    1\n",
        "2.953259    1\n",
        "5.254829    1\n",
        "4.431045    1\n",
        "2.456495    1\n",
        "1.897001    1\n",
        "1.924862    1\n",
        "5.644403    1\n",
        "1.861471    1\n",
        "1.578180    1\n",
        "1.759205    1\n",
        "2.748841    1\n",
        "2.934360    1\n",
        "2.398058    1\n",
        "3.293241    1\n",
        "4.515120    1\n",
        "2.787529    1\n",
        "2.228626    1\n",
        "2.427368    1\n",
        "2.321229    1\n",
        "2.084367    1\n",
        "1.580238    1\n",
        "2.414697    1\n",
        "3.981753    1\n",
        "2.799158    1\n",
        "1.677796    1\n",
        "2.480255    1\n",
        "5.345979    1\n",
        "2.575705    1\n",
        "2.206526    1\n",
        "6.407603    1\n",
        "3.976091    1\n",
        "2.350240    1\n",
        "3.612727    1\n",
        "2.356255    1\n",
        "2.438007    1\n",
        "2.515587    1\n",
        "2.582403    1\n",
        "2.331334    1\n",
        "1.526331    1\n",
        "4.775365    1\n",
        "3.050544    1\n",
        "3.041572    1\n",
        "5.172942    1\n",
        "2.267481    1\n",
        "3.100300    1\n",
        "2.651273    1\n",
        "Length: 51, dtype: int64"
       ]
      }
     ],
     "prompt_number": 80
    },
    {
     "cell_type": "code",
     "collapsed": false,
     "input": [
      "sightpp_map = folium.Map(location=[48, -102],tiles='Stamen Toner', zoom_start=3)\n",
      "sightpp_map.geo_json(geo_path=jsonshape, data=sightingpop_data,\n",
      "                   columns=['State', 'SightingPerPerson'],\n",
      "                   key_on = 'feature.id',\n",
      "                   threshold_scale=[0,1,2,3,4,5],\n",
      "                   #threshold_scale=[0.00, 0.01, 0.02, 0.03],\n",
      "                   fill_color='YlOrRd', fill_opacity=0.7, line_opacity=0.2,\n",
      "                   legend_name='Sightings per 10,000 people')\n",
      "sightpp_map.create_map(path='Sightings_pp_per_state.html')"
     ],
     "language": "python",
     "metadata": {},
     "outputs": [],
     "prompt_number": 81
    },
    {
     "cell_type": "code",
     "collapsed": false,
     "input": [
      "HTML('<iframe src=Sightings_pp_per_state.html width=\"980\" height=\"400\"></iframe>')"
     ],
     "language": "python",
     "metadata": {},
     "outputs": [
      {
       "html": [
        "<iframe src=Sightings_pp_per_state.html width=\"980\" height=\"400\"></iframe>"
       ],
       "metadata": {},
       "output_type": "pyout",
       "prompt_number": 82,
       "text": [
        "<IPython.core.display.HTML object>"
       ]
      }
     ],
     "prompt_number": 82
    },
    {
     "cell_type": "heading",
     "level": 2,
     "metadata": {},
     "source": [
      "Light Shaped Sighting by State"
     ]
    },
    {
     "cell_type": "markdown",
     "metadata": {},
     "source": [
      "For this analysis, we took the number of sightings that were described by Light and grouped them by state. "
     ]
    },
    {
     "cell_type": "code",
     "collapsed": false,
     "input": [
      "light_state_data = r'Clean_data/Light_state'"
     ],
     "language": "python",
     "metadata": {},
     "outputs": [],
     "prompt_number": 83
    },
    {
     "cell_type": "code",
     "collapsed": false,
     "input": [
      "light_data = pd.read_csv(light_state_data)\n",
      "light_data.head()"
     ],
     "language": "python",
     "metadata": {},
     "outputs": [
      {
       "html": [
        "<div style=\"max-height:1000px;max-width:1500px;overflow:auto;\">\n",
        "<table border=\"1\" class=\"dataframe\">\n",
        "  <thead>\n",
        "    <tr style=\"text-align: right;\">\n",
        "      <th></th>\n",
        "      <th>State</th>\n",
        "      <th>Light_sightings</th>\n",
        "    </tr>\n",
        "  </thead>\n",
        "  <tbody>\n",
        "    <tr>\n",
        "      <th>0</th>\n",
        "      <td> AB</td>\n",
        "      <td>  82</td>\n",
        "    </tr>\n",
        "    <tr>\n",
        "      <th>1</th>\n",
        "      <td> AK</td>\n",
        "      <td> 109</td>\n",
        "    </tr>\n",
        "    <tr>\n",
        "      <th>2</th>\n",
        "      <td> AL</td>\n",
        "      <td> 169</td>\n",
        "    </tr>\n",
        "    <tr>\n",
        "      <th>3</th>\n",
        "      <td> AR</td>\n",
        "      <td> 161</td>\n",
        "    </tr>\n",
        "    <tr>\n",
        "      <th>4</th>\n",
        "      <td> AZ</td>\n",
        "      <td> 688</td>\n",
        "    </tr>\n",
        "  </tbody>\n",
        "</table>\n",
        "</div>"
       ],
       "metadata": {},
       "output_type": "pyout",
       "prompt_number": 84,
       "text": [
        "  State  Light_sightings\n",
        "0    AB               82\n",
        "1    AK              109\n",
        "2    AL              169\n",
        "3    AR              161\n",
        "4    AZ              688"
       ]
      }
     ],
     "prompt_number": 84
    },
    {
     "cell_type": "code",
     "collapsed": false,
     "input": [
      "light_map = folium.Map(location=[48, -102],tiles='Stamen Toner', zoom_start=3)\n",
      "light_map.geo_json(geo_path=jsonshape, data=light_data,\n",
      "                   columns=['State', 'Light_sightings'],\n",
      "                   key_on = 'feature.id',\n",
      "                   threshold_scale=[200,400,600,800,1000,1200],\n",
      "                   #threshold_scale=[0.00, 0.01, 0.02, 0.03],\n",
      "                   fill_color='YlOrRd', fill_opacity=0.7, line_opacity=0.2,\n",
      "                   legend_name='Sightings of Light shape UFO')\n",
      "light_map.create_map(path='Light_sightings.html')"
     ],
     "language": "python",
     "metadata": {},
     "outputs": [],
     "prompt_number": 85
    },
    {
     "cell_type": "code",
     "collapsed": false,
     "input": [
      "HTML('<iframe src=Light_sightings.html width=\"980\" height=\"400\"></iframe>')"
     ],
     "language": "python",
     "metadata": {},
     "outputs": [
      {
       "html": [
        "<iframe src=Light_sightings.html width=\"980\" height=\"400\"></iframe>"
       ],
       "metadata": {},
       "output_type": "pyout",
       "prompt_number": 86,
       "text": [
        "<IPython.core.display.HTML object>"
       ]
      }
     ],
     "prompt_number": 86
    },
    {
     "cell_type": "code",
     "collapsed": false,
     "input": [],
     "language": "python",
     "metadata": {},
     "outputs": [],
     "prompt_number": 20
    }
   ],
   "metadata": {}
  }
 ]
}