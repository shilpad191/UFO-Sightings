{
 "metadata": {
  "kernelspec": {
   "codemirror_mode": {
    "name": "ipython",
    "version": 2
   },
   "display_name": "IPython (Python 2)",
   "language": "python",
   "name": "python2"
  },
  "name": "",
  "signature": "sha256:178d72dfb5fa2ad8211b4aa580e04f8df394afe4bde7a26b32dd6ff60923310f"
 },
 "nbformat": 3,
 "nbformat_minor": 0,
 "worksheets": [
  {
   "cells": [
    {
     "cell_type": "heading",
     "level": 2,
     "metadata": {},
     "source": [
      "UFO Sighting Data"
     ]
    },
    {
     "cell_type": "code",
     "collapsed": false,
     "input": [
      "%matplotlib inline\n",
      "import math\n",
      "import matplotlib.pyplot as plt\n",
      "import numpy as np\n",
      "import pandas as pd\n",
      "import datetime\n",
      "import re"
     ],
     "language": "python",
     "metadata": {},
     "outputs": [],
     "prompt_number": 137
    },
    {
     "cell_type": "markdown",
     "metadata": {},
     "source": [
      "We begin the cleaning process by reading the raw data into Data frames that indicate what data is contained in them."
     ]
    },
    {
     "cell_type": "code",
     "collapsed": false,
     "input": [
      "ufo = pd.read_csv('Raw_data/UFO-Sightings.csv')"
     ],
     "language": "python",
     "metadata": {},
     "outputs": [],
     "prompt_number": 138
    },
    {
     "cell_type": "markdown",
     "metadata": {},
     "source": [
      "We begin the normalization process of UFO data by capitalizing all the different values within teh States, Cities, and shapes columns."
     ]
    },
    {
     "cell_type": "code",
     "collapsed": false,
     "input": [
      "#to uppercase all states\n",
      "upperStates = ufo.State.str.upper()\n",
      "upperCities = ufo.City.str.upper()\n",
      "upperShapes = ufo.Shape.str.upper()\n",
      "ufo.State = upperStates\n",
      "ufo.City = upperCities\n",
      "ufo.Shape = upperShapes"
     ],
     "language": "python",
     "metadata": {},
     "outputs": [],
     "prompt_number": 139
    },
    {
     "cell_type": "markdown",
     "metadata": {},
     "source": [
      "For the UFO data, we go through and convert all Nan values to gabage values which make sense for easy filtering later on."
     ]
    },
    {
     "cell_type": "code",
     "collapsed": false,
     "input": [
      "#Fill all Nans with some value that makes sense but is not Nan\n",
      "ufo['Date'].fillna(value='00/00/0000', inplace=True)\n",
      "ufo['Time'].fillna(value='0:00', inplace=True)\n",
      "ufo['Period'].fillna(value='NO', inplace=True)\n",
      "ufo['City'].fillna(value='NONE', inplace=True)\n",
      "ufo['State'].fillna(value='NA', inplace=True)\n",
      "ufo['Shape'].fillna(value='NONE', inplace=True)\n",
      "ufo['Duration'].fillna(value='0 seconds', inplace=True)\n",
      "ufo['Summary'].fillna(value='None provided', inplace=True)\n",
      "ufo['Posted'].fillna(value='00/00/000', inplace=True)"
     ],
     "language": "python",
     "metadata": {},
     "outputs": [],
     "prompt_number": 140
    },
    {
     "cell_type": "markdown",
     "metadata": {},
     "source": [
      "Need to replace some none alphanumeric characters that were placed in the City column."
     ]
    },
    {
     "cell_type": "code",
     "collapsed": false,
     "input": [
      "ufo.City.replace(\"??\", \"NONE\", inplace=True)\n",
      "ufo.City.replace(\"?\", \"NONE\", inplace=True)"
     ],
     "language": "python",
     "metadata": {},
     "outputs": [],
     "prompt_number": 141
    },
    {
     "cell_type": "markdown",
     "metadata": {},
     "source": [
      "We will now ensure that all 3 columns are uppercase only."
     ]
    },
    {
     "cell_type": "code",
     "collapsed": false,
     "input": [
      "assert ufo.State.apply(lambda x: x.isupper()).all()\n",
      "assert ufo.Shape.apply(lambda x: x.isupper()).all()\n",
      "assert ufo.City.apply(lambda x: x.isupper()).all()"
     ],
     "language": "python",
     "metadata": {},
     "outputs": [],
     "prompt_number": 142
    },
    {
     "cell_type": "markdown",
     "metadata": {},
     "source": [
      "In order to easily distringuish sightings within the United States from internation sightings, we introduce a list called states which contains all the abbreviations for US States to compare against."
     ]
    },
    {
     "cell_type": "code",
     "collapsed": false,
     "input": [
      "states = ['AL','AK','AZ','AR','CA','CO','CT','DE','FL','GA','HI','ID','IL','IN','IA',\n",
      "          'KS','KY','LA','ME','MD','MA','MI','MN','MS','MO','MT','NE','NV','NH','NJ',\n",
      "          'NM','NY','NC','ND','OH','OK','OR','PA','RI','SC','SD','TN','TX','UT','VT',\n",
      "          'VA','WA','WV','WI','WY']"
     ],
     "language": "python",
     "metadata": {},
     "outputs": [],
     "prompt_number": 143
    },
    {
     "cell_type": "markdown",
     "metadata": {},
     "source": [
      "We then used a lambda function to check the \"State\" column and if it is within the united states, save the corresponding value in the \"USA\" column to true, otherwise we mark it false."
     ]
    },
    {
     "cell_type": "code",
     "collapsed": false,
     "input": [
      "ufo['USA'] = np.where(ufo['State'].apply((lambda x: x in states)), True, False)"
     ],
     "language": "python",
     "metadata": {},
     "outputs": [],
     "prompt_number": 144
    },
    {
     "cell_type": "markdown",
     "metadata": {},
     "source": [
      "Here is a sample of where we now stand, including the normalized data for City, State, Shape and the USA column which indicates whether or not that sighting occurred within the United States."
     ]
    },
    {
     "cell_type": "code",
     "collapsed": false,
     "input": [
      "ufo.head()"
     ],
     "language": "python",
     "metadata": {},
     "outputs": [
      {
       "html": [
        "<div style=\"max-height:1000px;max-width:1500px;overflow:auto;\">\n",
        "<table border=\"1\" class=\"dataframe\">\n",
        "  <thead>\n",
        "    <tr style=\"text-align: right;\">\n",
        "      <th></th>\n",
        "      <th>Date</th>\n",
        "      <th>Time</th>\n",
        "      <th>Period</th>\n",
        "      <th>City</th>\n",
        "      <th>State</th>\n",
        "      <th>Shape</th>\n",
        "      <th>Duration</th>\n",
        "      <th>Summary</th>\n",
        "      <th>Posted</th>\n",
        "      <th>USA</th>\n",
        "    </tr>\n",
        "  </thead>\n",
        "  <tbody>\n",
        "    <tr>\n",
        "      <th>0</th>\n",
        "      <td> 11/14/2014 0:00</td>\n",
        "      <td>  1:05:00</td>\n",
        "      <td> AM</td>\n",
        "      <td>       ROGERS</td>\n",
        "      <td> AR</td>\n",
        "      <td> LIGHT</td>\n",
        "      <td>                5 seconds</td>\n",
        "      <td> A light (kind of green/blue) moving across the...</td>\n",
        "      <td> 11/14/2014</td>\n",
        "      <td> True</td>\n",
        "    </tr>\n",
        "    <tr>\n",
        "      <th>1</th>\n",
        "      <td> 11/12/2014 0:00</td>\n",
        "      <td>  6:30:00</td>\n",
        "      <td> PM</td>\n",
        "      <td> PHILADELPHIA</td>\n",
        "      <td> PA</td>\n",
        "      <td> LIGHT</td>\n",
        "      <td>               20 minutes</td>\n",
        "      <td> Lights flickering in the North Western Sky ove...</td>\n",
        "      <td> 11/14/2014</td>\n",
        "      <td> True</td>\n",
        "    </tr>\n",
        "    <tr>\n",
        "      <th>2</th>\n",
        "      <td> 11/12/2014 0:00</td>\n",
        "      <td>  5:00:00</td>\n",
        "      <td> PM</td>\n",
        "      <td> CENTRAL CITY</td>\n",
        "      <td> NE</td>\n",
        "      <td> LIGHT</td>\n",
        "      <td>               15 minutes</td>\n",
        "      <td>     Light orbs seen in daylight with sun setting.</td>\n",
        "      <td> 11/14/2014</td>\n",
        "      <td> True</td>\n",
        "    </tr>\n",
        "    <tr>\n",
        "      <th>3</th>\n",
        "      <td> 11/11/2014 0:00</td>\n",
        "      <td> 10:25:00</td>\n",
        "      <td> PM</td>\n",
        "      <td>         WADE</td>\n",
        "      <td> NC</td>\n",
        "      <td> LIGHT</td>\n",
        "      <td> multiple hours and still</td>\n",
        "      <td> Since I made my first report on the 7th I have...</td>\n",
        "      <td> 11/14/2014</td>\n",
        "      <td> True</td>\n",
        "    </tr>\n",
        "    <tr>\n",
        "      <th>4</th>\n",
        "      <td> 11/11/2014 0:00</td>\n",
        "      <td>  5:15:00</td>\n",
        "      <td> PM</td>\n",
        "      <td>      NEWPORT</td>\n",
        "      <td> VT</td>\n",
        "      <td> LIGHT</td>\n",
        "      <td>               15 seconds</td>\n",
        "      <td>                       Single orange silent light.</td>\n",
        "      <td> 11/14/2014</td>\n",
        "      <td> True</td>\n",
        "    </tr>\n",
        "  </tbody>\n",
        "</table>\n",
        "</div>"
       ],
       "metadata": {},
       "output_type": "pyout",
       "prompt_number": 145,
       "text": [
        "              Date      Time Period          City State  Shape  \\\n",
        "0  11/14/2014 0:00   1:05:00     AM        ROGERS    AR  LIGHT   \n",
        "1  11/12/2014 0:00   6:30:00     PM  PHILADELPHIA    PA  LIGHT   \n",
        "2  11/12/2014 0:00   5:00:00     PM  CENTRAL CITY    NE  LIGHT   \n",
        "3  11/11/2014 0:00  10:25:00     PM          WADE    NC  LIGHT   \n",
        "4  11/11/2014 0:00   5:15:00     PM       NEWPORT    VT  LIGHT   \n",
        "\n",
        "                   Duration  \\\n",
        "0                 5 seconds   \n",
        "1                20 minutes   \n",
        "2                15 minutes   \n",
        "3  multiple hours and still   \n",
        "4                15 seconds   \n",
        "\n",
        "                                             Summary      Posted   USA  \n",
        "0  A light (kind of green/blue) moving across the...  11/14/2014  True  \n",
        "1  Lights flickering in the North Western Sky ove...  11/14/2014  True  \n",
        "2      Light orbs seen in daylight with sun setting.  11/14/2014  True  \n",
        "3  Since I made my first report on the 7th I have...  11/14/2014  True  \n",
        "4                        Single orange silent light.  11/14/2014  True  "
       ]
      }
     ],
     "prompt_number": 145
    },
    {
     "cell_type": "markdown",
     "metadata": {},
     "source": [
      "We will now group the number of historical sightings by State. "
     ]
    },
    {
     "cell_type": "code",
     "collapsed": false,
     "input": [
      "stateufo = ufo.groupby(ufo['State'])\n",
      "stateufo.State.count().head()"
     ],
     "language": "python",
     "metadata": {},
     "outputs": [
      {
       "metadata": {},
       "output_type": "pyout",
       "prompt_number": 146,
       "text": [
        "State\n",
        "AB        395\n",
        "AK        393\n",
        "AL        811\n",
        "AR        734\n",
        "AZ       2992\n",
        "Name: State, dtype: int64"
       ]
      }
     ],
     "prompt_number": 146
    },
    {
     "cell_type": "markdown",
     "metadata": {},
     "source": [
      "We will save the postings per state to a clean file for later use with our heatmap and analysis."
     ]
    },
    {
     "cell_type": "code",
     "collapsed": false,
     "input": [
      "state_ser = pd.Series(stateufo.State.count(), name='State_sightings')\n",
      "state_ser.to_csv(r'Clean_data\\Sightings_by_state')"
     ],
     "language": "python",
     "metadata": {},
     "outputs": [],
     "prompt_number": 147
    },
    {
     "cell_type": "heading",
     "level": 2,
     "metadata": {},
     "source": [
      "Getting the difference between Date of Sighting and Posting"
     ]
    },
    {
     "cell_type": "markdown",
     "metadata": {},
     "source": [
      "We have extraced what we need for state data analysis, but now we need to manipulate the dataset to browse for other trends within the data. The nest set we will work toward getting is the difference in days between the time of sighting and the time of posting. We will begin by making a copy of the original UFO dataset for manipulation. This copy will be named <b>date_diff</b>, as the goal is to get the difference in Sightings and Posting dates."
     ]
    },
    {
     "cell_type": "code",
     "collapsed": false,
     "input": [
      "date_diff = ufo\n",
      "period = date_diff['Period'].isin(['AM','PM'])\n",
      "date_diff = date_diff[period] \n",
      "date_diff.head()"
     ],
     "language": "python",
     "metadata": {},
     "outputs": [
      {
       "html": [
        "<div style=\"max-height:1000px;max-width:1500px;overflow:auto;\">\n",
        "<table border=\"1\" class=\"dataframe\">\n",
        "  <thead>\n",
        "    <tr style=\"text-align: right;\">\n",
        "      <th></th>\n",
        "      <th>Date</th>\n",
        "      <th>Time</th>\n",
        "      <th>Period</th>\n",
        "      <th>City</th>\n",
        "      <th>State</th>\n",
        "      <th>Shape</th>\n",
        "      <th>Duration</th>\n",
        "      <th>Summary</th>\n",
        "      <th>Posted</th>\n",
        "      <th>USA</th>\n",
        "    </tr>\n",
        "  </thead>\n",
        "  <tbody>\n",
        "    <tr>\n",
        "      <th>0</th>\n",
        "      <td> 11/14/2014 0:00</td>\n",
        "      <td>  1:05:00</td>\n",
        "      <td> AM</td>\n",
        "      <td>       ROGERS</td>\n",
        "      <td> AR</td>\n",
        "      <td> LIGHT</td>\n",
        "      <td>                5 seconds</td>\n",
        "      <td> A light (kind of green/blue) moving across the...</td>\n",
        "      <td> 11/14/2014</td>\n",
        "      <td> True</td>\n",
        "    </tr>\n",
        "    <tr>\n",
        "      <th>1</th>\n",
        "      <td> 11/12/2014 0:00</td>\n",
        "      <td>  6:30:00</td>\n",
        "      <td> PM</td>\n",
        "      <td> PHILADELPHIA</td>\n",
        "      <td> PA</td>\n",
        "      <td> LIGHT</td>\n",
        "      <td>               20 minutes</td>\n",
        "      <td> Lights flickering in the North Western Sky ove...</td>\n",
        "      <td> 11/14/2014</td>\n",
        "      <td> True</td>\n",
        "    </tr>\n",
        "    <tr>\n",
        "      <th>2</th>\n",
        "      <td> 11/12/2014 0:00</td>\n",
        "      <td>  5:00:00</td>\n",
        "      <td> PM</td>\n",
        "      <td> CENTRAL CITY</td>\n",
        "      <td> NE</td>\n",
        "      <td> LIGHT</td>\n",
        "      <td>               15 minutes</td>\n",
        "      <td>     Light orbs seen in daylight with sun setting.</td>\n",
        "      <td> 11/14/2014</td>\n",
        "      <td> True</td>\n",
        "    </tr>\n",
        "    <tr>\n",
        "      <th>3</th>\n",
        "      <td> 11/11/2014 0:00</td>\n",
        "      <td> 10:25:00</td>\n",
        "      <td> PM</td>\n",
        "      <td>         WADE</td>\n",
        "      <td> NC</td>\n",
        "      <td> LIGHT</td>\n",
        "      <td> multiple hours and still</td>\n",
        "      <td> Since I made my first report on the 7th I have...</td>\n",
        "      <td> 11/14/2014</td>\n",
        "      <td> True</td>\n",
        "    </tr>\n",
        "    <tr>\n",
        "      <th>4</th>\n",
        "      <td> 11/11/2014 0:00</td>\n",
        "      <td>  5:15:00</td>\n",
        "      <td> PM</td>\n",
        "      <td>      NEWPORT</td>\n",
        "      <td> VT</td>\n",
        "      <td> LIGHT</td>\n",
        "      <td>               15 seconds</td>\n",
        "      <td>                       Single orange silent light.</td>\n",
        "      <td> 11/14/2014</td>\n",
        "      <td> True</td>\n",
        "    </tr>\n",
        "  </tbody>\n",
        "</table>\n",
        "</div>"
       ],
       "metadata": {},
       "output_type": "pyout",
       "prompt_number": 148,
       "text": [
        "              Date      Time Period          City State  Shape  \\\n",
        "0  11/14/2014 0:00   1:05:00     AM        ROGERS    AR  LIGHT   \n",
        "1  11/12/2014 0:00   6:30:00     PM  PHILADELPHIA    PA  LIGHT   \n",
        "2  11/12/2014 0:00   5:00:00     PM  CENTRAL CITY    NE  LIGHT   \n",
        "3  11/11/2014 0:00  10:25:00     PM          WADE    NC  LIGHT   \n",
        "4  11/11/2014 0:00   5:15:00     PM       NEWPORT    VT  LIGHT   \n",
        "\n",
        "                   Duration  \\\n",
        "0                 5 seconds   \n",
        "1                20 minutes   \n",
        "2                15 minutes   \n",
        "3  multiple hours and still   \n",
        "4                15 seconds   \n",
        "\n",
        "                                             Summary      Posted   USA  \n",
        "0  A light (kind of green/blue) moving across the...  11/14/2014  True  \n",
        "1  Lights flickering in the North Western Sky ove...  11/14/2014  True  \n",
        "2      Light orbs seen in daylight with sun setting.  11/14/2014  True  \n",
        "3  Since I made my first report on the 7th I have...  11/14/2014  True  \n",
        "4                        Single orange silent light.  11/14/2014  True  "
       ]
      }
     ],
     "prompt_number": 148
    },
    {
     "cell_type": "markdown",
     "metadata": {},
     "source": [
      "In the code below, we have split the date based on space as the Date in the dataframe above is not in the right format. This code will create two new columns. Since there are 90K+ rows, this particular command takes about 50 seconds to execute."
     ]
    },
    {
     "cell_type": "code",
     "collapsed": false,
     "input": [
      "date_diff = date_diff.join(date_diff['Date'].apply(lambda x: pd.Series(x.split(' '))))"
     ],
     "language": "python",
     "metadata": {},
     "outputs": [],
     "prompt_number": 149
    },
    {
     "cell_type": "markdown",
     "metadata": {},
     "source": [
      "The newly created columns have been renamed as per the code below. "
     ]
    },
    {
     "cell_type": "code",
     "collapsed": false,
     "input": [
      "date_diff.rename(columns={0:'Sighting Date', 1:'GTime'}, inplace=True)\n",
      "date_diff.head()"
     ],
     "language": "python",
     "metadata": {},
     "outputs": [
      {
       "html": [
        "<div style=\"max-height:1000px;max-width:1500px;overflow:auto;\">\n",
        "<table border=\"1\" class=\"dataframe\">\n",
        "  <thead>\n",
        "    <tr style=\"text-align: right;\">\n",
        "      <th></th>\n",
        "      <th>Date</th>\n",
        "      <th>Time</th>\n",
        "      <th>Period</th>\n",
        "      <th>City</th>\n",
        "      <th>State</th>\n",
        "      <th>Shape</th>\n",
        "      <th>Duration</th>\n",
        "      <th>Summary</th>\n",
        "      <th>Posted</th>\n",
        "      <th>USA</th>\n",
        "      <th>Sighting Date</th>\n",
        "      <th>GTime</th>\n",
        "    </tr>\n",
        "  </thead>\n",
        "  <tbody>\n",
        "    <tr>\n",
        "      <th>0</th>\n",
        "      <td> 11/14/2014 0:00</td>\n",
        "      <td>  1:05:00</td>\n",
        "      <td> AM</td>\n",
        "      <td>       ROGERS</td>\n",
        "      <td> AR</td>\n",
        "      <td> LIGHT</td>\n",
        "      <td>                5 seconds</td>\n",
        "      <td> A light (kind of green/blue) moving across the...</td>\n",
        "      <td> 11/14/2014</td>\n",
        "      <td> True</td>\n",
        "      <td> 11/14/2014</td>\n",
        "      <td> 0:00</td>\n",
        "    </tr>\n",
        "    <tr>\n",
        "      <th>1</th>\n",
        "      <td> 11/12/2014 0:00</td>\n",
        "      <td>  6:30:00</td>\n",
        "      <td> PM</td>\n",
        "      <td> PHILADELPHIA</td>\n",
        "      <td> PA</td>\n",
        "      <td> LIGHT</td>\n",
        "      <td>               20 minutes</td>\n",
        "      <td> Lights flickering in the North Western Sky ove...</td>\n",
        "      <td> 11/14/2014</td>\n",
        "      <td> True</td>\n",
        "      <td> 11/12/2014</td>\n",
        "      <td> 0:00</td>\n",
        "    </tr>\n",
        "    <tr>\n",
        "      <th>2</th>\n",
        "      <td> 11/12/2014 0:00</td>\n",
        "      <td>  5:00:00</td>\n",
        "      <td> PM</td>\n",
        "      <td> CENTRAL CITY</td>\n",
        "      <td> NE</td>\n",
        "      <td> LIGHT</td>\n",
        "      <td>               15 minutes</td>\n",
        "      <td>     Light orbs seen in daylight with sun setting.</td>\n",
        "      <td> 11/14/2014</td>\n",
        "      <td> True</td>\n",
        "      <td> 11/12/2014</td>\n",
        "      <td> 0:00</td>\n",
        "    </tr>\n",
        "    <tr>\n",
        "      <th>3</th>\n",
        "      <td> 11/11/2014 0:00</td>\n",
        "      <td> 10:25:00</td>\n",
        "      <td> PM</td>\n",
        "      <td>         WADE</td>\n",
        "      <td> NC</td>\n",
        "      <td> LIGHT</td>\n",
        "      <td> multiple hours and still</td>\n",
        "      <td> Since I made my first report on the 7th I have...</td>\n",
        "      <td> 11/14/2014</td>\n",
        "      <td> True</td>\n",
        "      <td> 11/11/2014</td>\n",
        "      <td> 0:00</td>\n",
        "    </tr>\n",
        "    <tr>\n",
        "      <th>4</th>\n",
        "      <td> 11/11/2014 0:00</td>\n",
        "      <td>  5:15:00</td>\n",
        "      <td> PM</td>\n",
        "      <td>      NEWPORT</td>\n",
        "      <td> VT</td>\n",
        "      <td> LIGHT</td>\n",
        "      <td>               15 seconds</td>\n",
        "      <td>                       Single orange silent light.</td>\n",
        "      <td> 11/14/2014</td>\n",
        "      <td> True</td>\n",
        "      <td> 11/11/2014</td>\n",
        "      <td> 0:00</td>\n",
        "    </tr>\n",
        "  </tbody>\n",
        "</table>\n",
        "</div>"
       ],
       "metadata": {},
       "output_type": "pyout",
       "prompt_number": 150,
       "text": [
        "              Date      Time Period          City State  Shape  \\\n",
        "0  11/14/2014 0:00   1:05:00     AM        ROGERS    AR  LIGHT   \n",
        "1  11/12/2014 0:00   6:30:00     PM  PHILADELPHIA    PA  LIGHT   \n",
        "2  11/12/2014 0:00   5:00:00     PM  CENTRAL CITY    NE  LIGHT   \n",
        "3  11/11/2014 0:00  10:25:00     PM          WADE    NC  LIGHT   \n",
        "4  11/11/2014 0:00   5:15:00     PM       NEWPORT    VT  LIGHT   \n",
        "\n",
        "                   Duration  \\\n",
        "0                 5 seconds   \n",
        "1                20 minutes   \n",
        "2                15 minutes   \n",
        "3  multiple hours and still   \n",
        "4                15 seconds   \n",
        "\n",
        "                                             Summary      Posted   USA  \\\n",
        "0  A light (kind of green/blue) moving across the...  11/14/2014  True   \n",
        "1  Lights flickering in the North Western Sky ove...  11/14/2014  True   \n",
        "2      Light orbs seen in daylight with sun setting.  11/14/2014  True   \n",
        "3  Since I made my first report on the 7th I have...  11/14/2014  True   \n",
        "4                        Single orange silent light.  11/14/2014  True   \n",
        "\n",
        "  Sighting Date GTime  \n",
        "0    11/14/2014  0:00  \n",
        "1    11/12/2014  0:00  \n",
        "2    11/12/2014  0:00  \n",
        "3    11/11/2014  0:00  \n",
        "4    11/11/2014  0:00  "
       ]
      }
     ],
     "prompt_number": 150
    },
    {
     "cell_type": "markdown",
     "metadata": {},
     "source": [
      "The code below has been used to remove rows based on the garbage values present in column \"Posted\""
     ]
    },
    {
     "cell_type": "code",
     "collapsed": false,
     "input": [
      "date_format = date_diff['Posted'].isin(['00/00/000', 'Monday, August 15, 2011 \\x95',' ', '35948','35861', '36466'])\n",
      "date_diff=date_diff[~date_format] \n",
      "date_diff.head()"
     ],
     "language": "python",
     "metadata": {},
     "outputs": [
      {
       "html": [
        "<div style=\"max-height:1000px;max-width:1500px;overflow:auto;\">\n",
        "<table border=\"1\" class=\"dataframe\">\n",
        "  <thead>\n",
        "    <tr style=\"text-align: right;\">\n",
        "      <th></th>\n",
        "      <th>Date</th>\n",
        "      <th>Time</th>\n",
        "      <th>Period</th>\n",
        "      <th>City</th>\n",
        "      <th>State</th>\n",
        "      <th>Shape</th>\n",
        "      <th>Duration</th>\n",
        "      <th>Summary</th>\n",
        "      <th>Posted</th>\n",
        "      <th>USA</th>\n",
        "      <th>Sighting Date</th>\n",
        "      <th>GTime</th>\n",
        "    </tr>\n",
        "  </thead>\n",
        "  <tbody>\n",
        "    <tr>\n",
        "      <th>0</th>\n",
        "      <td> 11/14/2014 0:00</td>\n",
        "      <td>  1:05:00</td>\n",
        "      <td> AM</td>\n",
        "      <td>       ROGERS</td>\n",
        "      <td> AR</td>\n",
        "      <td> LIGHT</td>\n",
        "      <td>                5 seconds</td>\n",
        "      <td> A light (kind of green/blue) moving across the...</td>\n",
        "      <td> 11/14/2014</td>\n",
        "      <td> True</td>\n",
        "      <td> 11/14/2014</td>\n",
        "      <td> 0:00</td>\n",
        "    </tr>\n",
        "    <tr>\n",
        "      <th>1</th>\n",
        "      <td> 11/12/2014 0:00</td>\n",
        "      <td>  6:30:00</td>\n",
        "      <td> PM</td>\n",
        "      <td> PHILADELPHIA</td>\n",
        "      <td> PA</td>\n",
        "      <td> LIGHT</td>\n",
        "      <td>               20 minutes</td>\n",
        "      <td> Lights flickering in the North Western Sky ove...</td>\n",
        "      <td> 11/14/2014</td>\n",
        "      <td> True</td>\n",
        "      <td> 11/12/2014</td>\n",
        "      <td> 0:00</td>\n",
        "    </tr>\n",
        "    <tr>\n",
        "      <th>2</th>\n",
        "      <td> 11/12/2014 0:00</td>\n",
        "      <td>  5:00:00</td>\n",
        "      <td> PM</td>\n",
        "      <td> CENTRAL CITY</td>\n",
        "      <td> NE</td>\n",
        "      <td> LIGHT</td>\n",
        "      <td>               15 minutes</td>\n",
        "      <td>     Light orbs seen in daylight with sun setting.</td>\n",
        "      <td> 11/14/2014</td>\n",
        "      <td> True</td>\n",
        "      <td> 11/12/2014</td>\n",
        "      <td> 0:00</td>\n",
        "    </tr>\n",
        "    <tr>\n",
        "      <th>3</th>\n",
        "      <td> 11/11/2014 0:00</td>\n",
        "      <td> 10:25:00</td>\n",
        "      <td> PM</td>\n",
        "      <td>         WADE</td>\n",
        "      <td> NC</td>\n",
        "      <td> LIGHT</td>\n",
        "      <td> multiple hours and still</td>\n",
        "      <td> Since I made my first report on the 7th I have...</td>\n",
        "      <td> 11/14/2014</td>\n",
        "      <td> True</td>\n",
        "      <td> 11/11/2014</td>\n",
        "      <td> 0:00</td>\n",
        "    </tr>\n",
        "    <tr>\n",
        "      <th>4</th>\n",
        "      <td> 11/11/2014 0:00</td>\n",
        "      <td>  5:15:00</td>\n",
        "      <td> PM</td>\n",
        "      <td>      NEWPORT</td>\n",
        "      <td> VT</td>\n",
        "      <td> LIGHT</td>\n",
        "      <td>               15 seconds</td>\n",
        "      <td>                       Single orange silent light.</td>\n",
        "      <td> 11/14/2014</td>\n",
        "      <td> True</td>\n",
        "      <td> 11/11/2014</td>\n",
        "      <td> 0:00</td>\n",
        "    </tr>\n",
        "  </tbody>\n",
        "</table>\n",
        "</div>"
       ],
       "metadata": {},
       "output_type": "pyout",
       "prompt_number": 151,
       "text": [
        "              Date      Time Period          City State  Shape  \\\n",
        "0  11/14/2014 0:00   1:05:00     AM        ROGERS    AR  LIGHT   \n",
        "1  11/12/2014 0:00   6:30:00     PM  PHILADELPHIA    PA  LIGHT   \n",
        "2  11/12/2014 0:00   5:00:00     PM  CENTRAL CITY    NE  LIGHT   \n",
        "3  11/11/2014 0:00  10:25:00     PM          WADE    NC  LIGHT   \n",
        "4  11/11/2014 0:00   5:15:00     PM       NEWPORT    VT  LIGHT   \n",
        "\n",
        "                   Duration  \\\n",
        "0                 5 seconds   \n",
        "1                20 minutes   \n",
        "2                15 minutes   \n",
        "3  multiple hours and still   \n",
        "4                15 seconds   \n",
        "\n",
        "                                             Summary      Posted   USA  \\\n",
        "0  A light (kind of green/blue) moving across the...  11/14/2014  True   \n",
        "1  Lights flickering in the North Western Sky ove...  11/14/2014  True   \n",
        "2      Light orbs seen in daylight with sun setting.  11/14/2014  True   \n",
        "3  Since I made my first report on the 7th I have...  11/14/2014  True   \n",
        "4                        Single orange silent light.  11/14/2014  True   \n",
        "\n",
        "  Sighting Date GTime  \n",
        "0    11/14/2014  0:00  \n",
        "1    11/12/2014  0:00  \n",
        "2    11/12/2014  0:00  \n",
        "3    11/11/2014  0:00  \n",
        "4    11/11/2014  0:00  "
       ]
      }
     ],
     "prompt_number": 151
    },
    {
     "cell_type": "markdown",
     "metadata": {},
     "source": [
      "Since the columns Posted and Sighting Date are in string format, we have converted them to Date format as shown in the code below."
     ]
    },
    {
     "cell_type": "code",
     "collapsed": false,
     "input": [
      "date_diff['Sighting Date'] = pd.to_datetime(date_diff['Sighting Date'],format='%m/%d/%Y')"
     ],
     "language": "python",
     "metadata": {},
     "outputs": [],
     "prompt_number": 152
    },
    {
     "cell_type": "code",
     "collapsed": false,
     "input": [
      "date_diff['Posted'] = pd.to_datetime(date_diff['Posted'],format='%m/%d/%Y')"
     ],
     "language": "python",
     "metadata": {},
     "outputs": [],
     "prompt_number": 153
    },
    {
     "cell_type": "markdown",
     "metadata": {},
     "source": [
      "In the code below, we are calculating the difference between the Posted Date and the Sighting date and storing the result in the new column called \"Difference\"."
     ]
    },
    {
     "cell_type": "code",
     "collapsed": false,
     "input": [
      "date_diff['Difference'] = date_diff['Posted'] - date_diff['Sighting Date']"
     ],
     "language": "python",
     "metadata": {},
     "outputs": [],
     "prompt_number": 154
    },
    {
     "cell_type": "markdown",
     "metadata": {},
     "source": [
      "In the code below, a for loop is used to covert the items in Difference column in the \"days\" format and a new column \"Difference in Days\" is used to store this result."
     ]
    },
    {
     "cell_type": "code",
     "collapsed": false,
     "input": [
      "days_diff = []\n",
      "for item in date_diff['Difference']:\n",
      "    days_diff.append(item.days)\n",
      "date_diff['Difference in Days'] = days_diff"
     ],
     "language": "python",
     "metadata": {},
     "outputs": [],
     "prompt_number": 155
    },
    {
     "cell_type": "markdown",
     "metadata": {},
     "source": [
      "Here, the date_diff dataframe has only those rows for which value in \"Difference in Days\" is greater than zero. Evrything else has been removed from this dataframe. This is important as there is a problem with the original dataset. There were listings in the set, where the sightings were posted before they actually occured."
     ]
    },
    {
     "cell_type": "code",
     "collapsed": false,
     "input": [
      "date_diff = date_diff[date_diff['Difference in Days']>=0]"
     ],
     "language": "python",
     "metadata": {},
     "outputs": [],
     "prompt_number": 156
    },
    {
     "cell_type": "markdown",
     "metadata": {},
     "source": [
      "Assert used to check if the values in \"Difference in Days\" column less than zero have been removed."
     ]
    },
    {
     "cell_type": "code",
     "collapsed": false,
     "input": [
      "assert max(date_diff['Difference in Days']) == 28416"
     ],
     "language": "python",
     "metadata": {},
     "outputs": [],
     "prompt_number": 157
    },
    {
     "cell_type": "code",
     "collapsed": false,
     "input": [
      "date_diff.head()"
     ],
     "language": "python",
     "metadata": {},
     "outputs": [
      {
       "html": [
        "<div style=\"max-height:1000px;max-width:1500px;overflow:auto;\">\n",
        "<table border=\"1\" class=\"dataframe\">\n",
        "  <thead>\n",
        "    <tr style=\"text-align: right;\">\n",
        "      <th></th>\n",
        "      <th>Date</th>\n",
        "      <th>Time</th>\n",
        "      <th>Period</th>\n",
        "      <th>City</th>\n",
        "      <th>State</th>\n",
        "      <th>Shape</th>\n",
        "      <th>Duration</th>\n",
        "      <th>Summary</th>\n",
        "      <th>Posted</th>\n",
        "      <th>USA</th>\n",
        "      <th>Sighting Date</th>\n",
        "      <th>GTime</th>\n",
        "      <th>Difference</th>\n",
        "      <th>Difference in Days</th>\n",
        "    </tr>\n",
        "  </thead>\n",
        "  <tbody>\n",
        "    <tr>\n",
        "      <th>0</th>\n",
        "      <td> 11/14/2014 0:00</td>\n",
        "      <td>  1:05:00</td>\n",
        "      <td> AM</td>\n",
        "      <td>       ROGERS</td>\n",
        "      <td> AR</td>\n",
        "      <td> LIGHT</td>\n",
        "      <td>                5 seconds</td>\n",
        "      <td> A light (kind of green/blue) moving across the...</td>\n",
        "      <td>2014-11-14</td>\n",
        "      <td> True</td>\n",
        "      <td>2014-11-14</td>\n",
        "      <td> 0:00</td>\n",
        "      <td>0 days</td>\n",
        "      <td> 0</td>\n",
        "    </tr>\n",
        "    <tr>\n",
        "      <th>1</th>\n",
        "      <td> 11/12/2014 0:00</td>\n",
        "      <td>  6:30:00</td>\n",
        "      <td> PM</td>\n",
        "      <td> PHILADELPHIA</td>\n",
        "      <td> PA</td>\n",
        "      <td> LIGHT</td>\n",
        "      <td>               20 minutes</td>\n",
        "      <td> Lights flickering in the North Western Sky ove...</td>\n",
        "      <td>2014-11-14</td>\n",
        "      <td> True</td>\n",
        "      <td>2014-11-12</td>\n",
        "      <td> 0:00</td>\n",
        "      <td>2 days</td>\n",
        "      <td> 2</td>\n",
        "    </tr>\n",
        "    <tr>\n",
        "      <th>2</th>\n",
        "      <td> 11/12/2014 0:00</td>\n",
        "      <td>  5:00:00</td>\n",
        "      <td> PM</td>\n",
        "      <td> CENTRAL CITY</td>\n",
        "      <td> NE</td>\n",
        "      <td> LIGHT</td>\n",
        "      <td>               15 minutes</td>\n",
        "      <td>     Light orbs seen in daylight with sun setting.</td>\n",
        "      <td>2014-11-14</td>\n",
        "      <td> True</td>\n",
        "      <td>2014-11-12</td>\n",
        "      <td> 0:00</td>\n",
        "      <td>2 days</td>\n",
        "      <td> 2</td>\n",
        "    </tr>\n",
        "    <tr>\n",
        "      <th>3</th>\n",
        "      <td> 11/11/2014 0:00</td>\n",
        "      <td> 10:25:00</td>\n",
        "      <td> PM</td>\n",
        "      <td>         WADE</td>\n",
        "      <td> NC</td>\n",
        "      <td> LIGHT</td>\n",
        "      <td> multiple hours and still</td>\n",
        "      <td> Since I made my first report on the 7th I have...</td>\n",
        "      <td>2014-11-14</td>\n",
        "      <td> True</td>\n",
        "      <td>2014-11-11</td>\n",
        "      <td> 0:00</td>\n",
        "      <td>3 days</td>\n",
        "      <td> 3</td>\n",
        "    </tr>\n",
        "    <tr>\n",
        "      <th>4</th>\n",
        "      <td> 11/11/2014 0:00</td>\n",
        "      <td>  5:15:00</td>\n",
        "      <td> PM</td>\n",
        "      <td>      NEWPORT</td>\n",
        "      <td> VT</td>\n",
        "      <td> LIGHT</td>\n",
        "      <td>               15 seconds</td>\n",
        "      <td>                       Single orange silent light.</td>\n",
        "      <td>2014-11-14</td>\n",
        "      <td> True</td>\n",
        "      <td>2014-11-11</td>\n",
        "      <td> 0:00</td>\n",
        "      <td>3 days</td>\n",
        "      <td> 3</td>\n",
        "    </tr>\n",
        "  </tbody>\n",
        "</table>\n",
        "</div>"
       ],
       "metadata": {},
       "output_type": "pyout",
       "prompt_number": 158,
       "text": [
        "              Date      Time Period          City State  Shape  \\\n",
        "0  11/14/2014 0:00   1:05:00     AM        ROGERS    AR  LIGHT   \n",
        "1  11/12/2014 0:00   6:30:00     PM  PHILADELPHIA    PA  LIGHT   \n",
        "2  11/12/2014 0:00   5:00:00     PM  CENTRAL CITY    NE  LIGHT   \n",
        "3  11/11/2014 0:00  10:25:00     PM          WADE    NC  LIGHT   \n",
        "4  11/11/2014 0:00   5:15:00     PM       NEWPORT    VT  LIGHT   \n",
        "\n",
        "                   Duration  \\\n",
        "0                 5 seconds   \n",
        "1                20 minutes   \n",
        "2                15 minutes   \n",
        "3  multiple hours and still   \n",
        "4                15 seconds   \n",
        "\n",
        "                                             Summary     Posted   USA  \\\n",
        "0  A light (kind of green/blue) moving across the... 2014-11-14  True   \n",
        "1  Lights flickering in the North Western Sky ove... 2014-11-14  True   \n",
        "2      Light orbs seen in daylight with sun setting. 2014-11-14  True   \n",
        "3  Since I made my first report on the 7th I have... 2014-11-14  True   \n",
        "4                        Single orange silent light. 2014-11-14  True   \n",
        "\n",
        "  Sighting Date GTime  Difference  Difference in Days  \n",
        "0    2014-11-14  0:00      0 days                   0  \n",
        "1    2014-11-12  0:00      2 days                   2  \n",
        "2    2014-11-12  0:00      2 days                   2  \n",
        "3    2014-11-11  0:00      3 days                   3  \n",
        "4    2014-11-11  0:00      3 days                   3  "
       ]
      }
     ],
     "prompt_number": 158
    },
    {
     "cell_type": "markdown",
     "metadata": {},
     "source": [
      "Now we save the cleaned date_diff dateset to a csv for later analysis needing the no of sightings per the difference in the posted and sighting date."
     ]
    },
    {
     "cell_type": "code",
     "collapsed": false,
     "input": [
      "date_diff.to_csv(r'Clean_data\\Post_Sight_Diff')"
     ],
     "language": "python",
     "metadata": {},
     "outputs": [],
     "prompt_number": 159
    },
    {
     "cell_type": "heading",
     "level": 2,
     "metadata": {},
     "source": [
      "UFO Sightings by Hour"
     ]
    },
    {
     "cell_type": "markdown",
     "metadata": {},
     "source": [
      "Here the cleaning of data is being done for the analysis of no of sightings with respect to the hours of the day. We are also using this clean data to analyze number of light sightings with respect to hours of the day. "
     ]
    },
    {
     "cell_type": "markdown",
     "metadata": {},
     "source": [
      "In the code below, the period column of UFO dataset has values apart from AM/PM. Hence those rows are being removed for the Period column values other than AM/PM."
     ]
    },
    {
     "cell_type": "code",
     "collapsed": false,
     "input": [
      "period = ufo['Period'].isin(['AM','PM'])\n",
      "hourly = ufo[period] "
     ],
     "language": "python",
     "metadata": {},
     "outputs": [],
     "prompt_number": 160
    },
    {
     "cell_type": "markdown",
     "metadata": {},
     "source": [
      "Now we add a column called \"Time Hours\" which gives us the format we want to later convert to datetime."
     ]
    },
    {
     "cell_type": "code",
     "collapsed": false,
     "input": [
      "hourly['Time Hours'] = hourly.Time.map(str) + \" \" + hourly.Period.map(str)"
     ],
     "language": "python",
     "metadata": {},
     "outputs": [],
     "prompt_number": 161
    },
    {
     "cell_type": "markdown",
     "metadata": {},
     "source": [
      "Now we convert it to datetime so that we can pull the values we want from the datetime variable."
     ]
    },
    {
     "cell_type": "code",
     "collapsed": false,
     "input": [
      "hourly['Time Hours'] = pd.to_datetime(hourly['Time Hours'],format='%I:%M:%S %p')"
     ],
     "language": "python",
     "metadata": {},
     "outputs": [],
     "prompt_number": 162
    },
    {
     "cell_type": "markdown",
     "metadata": {},
     "source": [
      "In the code below, hourly dataframe is grouped by 'Time Hours' column and the number of sightings per hours is being counted and stored in hourly_sightings Series. Now we save the cleaned hourly_sightings dateset to a csv for later analysis needing the no of sightings with respect to the time of day."
     ]
    },
    {
     "cell_type": "code",
     "collapsed": false,
     "input": [
      "ufogroup = hourly.groupby(hourly['Time Hours'])\n",
      "hourly_sightings = ufogroup.Posted.count()\n",
      "hourly_sightings.to_csv(r'Clean_data/Hourly_sightings')"
     ],
     "language": "python",
     "metadata": {},
     "outputs": [],
     "prompt_number": 163
    },
    {
     "cell_type": "markdown",
     "metadata": {},
     "source": [
      "Now we remove those rows which has shape other than light from the hourly dataframe and save the result in a new dataframe called hourly_light"
     ]
    },
    {
     "cell_type": "code",
     "collapsed": false,
     "input": [
      "#useless?\n",
      "lightshape = hourly['Shape'].isin(['LIGHT'])\n",
      "hourly_light = hourly[lightshape] \n",
      "hourly_light.head()"
     ],
     "language": "python",
     "metadata": {},
     "outputs": [
      {
       "html": [
        "<div style=\"max-height:1000px;max-width:1500px;overflow:auto;\">\n",
        "<table border=\"1\" class=\"dataframe\">\n",
        "  <thead>\n",
        "    <tr style=\"text-align: right;\">\n",
        "      <th></th>\n",
        "      <th>Date</th>\n",
        "      <th>Time</th>\n",
        "      <th>Period</th>\n",
        "      <th>City</th>\n",
        "      <th>State</th>\n",
        "      <th>Shape</th>\n",
        "      <th>Duration</th>\n",
        "      <th>Summary</th>\n",
        "      <th>Posted</th>\n",
        "      <th>USA</th>\n",
        "      <th>Time Hours</th>\n",
        "    </tr>\n",
        "  </thead>\n",
        "  <tbody>\n",
        "    <tr>\n",
        "      <th>0</th>\n",
        "      <td> 11/14/2014 0:00</td>\n",
        "      <td>  1:05:00</td>\n",
        "      <td> AM</td>\n",
        "      <td>       ROGERS</td>\n",
        "      <td> AR</td>\n",
        "      <td> LIGHT</td>\n",
        "      <td>                5 seconds</td>\n",
        "      <td> A light (kind of green/blue) moving across the...</td>\n",
        "      <td> 11/14/2014</td>\n",
        "      <td> True</td>\n",
        "      <td>1900-01-01 01:05:00</td>\n",
        "    </tr>\n",
        "    <tr>\n",
        "      <th>1</th>\n",
        "      <td> 11/12/2014 0:00</td>\n",
        "      <td>  6:30:00</td>\n",
        "      <td> PM</td>\n",
        "      <td> PHILADELPHIA</td>\n",
        "      <td> PA</td>\n",
        "      <td> LIGHT</td>\n",
        "      <td>               20 minutes</td>\n",
        "      <td> Lights flickering in the North Western Sky ove...</td>\n",
        "      <td> 11/14/2014</td>\n",
        "      <td> True</td>\n",
        "      <td>1900-01-01 18:30:00</td>\n",
        "    </tr>\n",
        "    <tr>\n",
        "      <th>2</th>\n",
        "      <td> 11/12/2014 0:00</td>\n",
        "      <td>  5:00:00</td>\n",
        "      <td> PM</td>\n",
        "      <td> CENTRAL CITY</td>\n",
        "      <td> NE</td>\n",
        "      <td> LIGHT</td>\n",
        "      <td>               15 minutes</td>\n",
        "      <td>     Light orbs seen in daylight with sun setting.</td>\n",
        "      <td> 11/14/2014</td>\n",
        "      <td> True</td>\n",
        "      <td>1900-01-01 17:00:00</td>\n",
        "    </tr>\n",
        "    <tr>\n",
        "      <th>3</th>\n",
        "      <td> 11/11/2014 0:00</td>\n",
        "      <td> 10:25:00</td>\n",
        "      <td> PM</td>\n",
        "      <td>         WADE</td>\n",
        "      <td> NC</td>\n",
        "      <td> LIGHT</td>\n",
        "      <td> multiple hours and still</td>\n",
        "      <td> Since I made my first report on the 7th I have...</td>\n",
        "      <td> 11/14/2014</td>\n",
        "      <td> True</td>\n",
        "      <td>1900-01-01 22:25:00</td>\n",
        "    </tr>\n",
        "    <tr>\n",
        "      <th>4</th>\n",
        "      <td> 11/11/2014 0:00</td>\n",
        "      <td>  5:15:00</td>\n",
        "      <td> PM</td>\n",
        "      <td>      NEWPORT</td>\n",
        "      <td> VT</td>\n",
        "      <td> LIGHT</td>\n",
        "      <td>               15 seconds</td>\n",
        "      <td>                       Single orange silent light.</td>\n",
        "      <td> 11/14/2014</td>\n",
        "      <td> True</td>\n",
        "      <td>1900-01-01 17:15:00</td>\n",
        "    </tr>\n",
        "  </tbody>\n",
        "</table>\n",
        "</div>"
       ],
       "metadata": {},
       "output_type": "pyout",
       "prompt_number": 164,
       "text": [
        "              Date      Time Period          City State  Shape  \\\n",
        "0  11/14/2014 0:00   1:05:00     AM        ROGERS    AR  LIGHT   \n",
        "1  11/12/2014 0:00   6:30:00     PM  PHILADELPHIA    PA  LIGHT   \n",
        "2  11/12/2014 0:00   5:00:00     PM  CENTRAL CITY    NE  LIGHT   \n",
        "3  11/11/2014 0:00  10:25:00     PM          WADE    NC  LIGHT   \n",
        "4  11/11/2014 0:00   5:15:00     PM       NEWPORT    VT  LIGHT   \n",
        "\n",
        "                   Duration  \\\n",
        "0                 5 seconds   \n",
        "1                20 minutes   \n",
        "2                15 minutes   \n",
        "3  multiple hours and still   \n",
        "4                15 seconds   \n",
        "\n",
        "                                             Summary      Posted   USA  \\\n",
        "0  A light (kind of green/blue) moving across the...  11/14/2014  True   \n",
        "1  Lights flickering in the North Western Sky ove...  11/14/2014  True   \n",
        "2      Light orbs seen in daylight with sun setting.  11/14/2014  True   \n",
        "3  Since I made my first report on the 7th I have...  11/14/2014  True   \n",
        "4                        Single orange silent light.  11/14/2014  True   \n",
        "\n",
        "           Time Hours  \n",
        "0 1900-01-01 01:05:00  \n",
        "1 1900-01-01 18:30:00  \n",
        "2 1900-01-01 17:00:00  \n",
        "3 1900-01-01 22:25:00  \n",
        "4 1900-01-01 17:15:00  "
       ]
      }
     ],
     "prompt_number": 164
    },
    {
     "cell_type": "markdown",
     "metadata": {},
     "source": [
      "In the code below, hourly_light dataframe is grouped by 'Time Hours' column and the number of light sightings per hours is being counted and stored in hourly_light_sightings Series. Now we save the cleaned hourly_light_sightings dateset to a csv for later analysis needing the no of light sightings with respect to the time of day."
     ]
    },
    {
     "cell_type": "code",
     "collapsed": false,
     "input": [
      "ufogrouplight = hourly_light.groupby(hourly_light['Time Hours'])\n",
      "hourly_light_sightings = ufogrouplight.Shape.count()\n",
      "hourly_light_sightings.to_csv(r'Clean_data/Hourly_light_sightings')"
     ],
     "language": "python",
     "metadata": {},
     "outputs": [],
     "prompt_number": 165
    },
    {
     "cell_type": "code",
     "collapsed": false,
     "input": [
      "hourly_sightings.head()"
     ],
     "language": "python",
     "metadata": {},
     "outputs": [
      {
       "metadata": {},
       "output_type": "pyout",
       "prompt_number": 166,
       "text": [
        "Time Hours\n",
        "1900-01-01 00:00:00    2078\n",
        "1900-01-01 00:01:00      94\n",
        "1900-01-01 00:02:00      38\n",
        "1900-01-01 00:03:00      23\n",
        "1900-01-01 00:04:00      22\n",
        "Name: Posted, dtype: int64"
       ]
      }
     ],
     "prompt_number": 166
    },
    {
     "cell_type": "code",
     "collapsed": false,
     "input": [
      "hourly_light_sightings.head()"
     ],
     "language": "python",
     "metadata": {},
     "outputs": [
      {
       "metadata": {},
       "output_type": "pyout",
       "prompt_number": 167,
       "text": [
        "Time Hours\n",
        "1900-01-01 00:00:00    425\n",
        "1900-01-01 00:01:00     20\n",
        "1900-01-01 00:02:00     12\n",
        "1900-01-01 00:03:00      4\n",
        "1900-01-01 00:04:00      3\n",
        "Name: Shape, dtype: int64"
       ]
      }
     ],
     "prompt_number": 167
    },
    {
     "cell_type": "heading",
     "level": 2,
     "metadata": {},
     "source": [
      "Binning and Resampling Hourly Data"
     ]
    },
    {
     "cell_type": "markdown",
     "metadata": {},
     "source": [
      "Here, bins are created for every hour in a day. The result is being stored in a time_hours_bucket series."
     ]
    },
    {
     "cell_type": "code",
     "collapsed": false,
     "input": [
      "time_hours_bucket = hourly_sightings.resample('H', how='sum')"
     ],
     "language": "python",
     "metadata": {},
     "outputs": [],
     "prompt_number": 168
    },
    {
     "cell_type": "code",
     "collapsed": false,
     "input": [
      "time_hours_bucket.head()"
     ],
     "language": "python",
     "metadata": {},
     "outputs": [
      {
       "metadata": {},
       "output_type": "pyout",
       "prompt_number": 169,
       "text": [
        "Time Hours\n",
        "1900-01-01 00:00:00    4680\n",
        "1900-01-01 01:00:00    3625\n",
        "1900-01-01 02:00:00    2651\n",
        "1900-01-01 03:00:00    2258\n",
        "1900-01-01 04:00:00    1730\n",
        "Freq: H, Name: Posted, dtype: int64"
       ]
      }
     ],
     "prompt_number": 169
    },
    {
     "cell_type": "markdown",
     "metadata": {},
     "source": [
      "Here, a dataframe ufotimebucket is being created to store time_hours_bucket indices."
     ]
    },
    {
     "cell_type": "code",
     "collapsed": false,
     "input": [
      "ufotimebucket = pd.DataFrame(time_hours_bucket.index)"
     ],
     "language": "python",
     "metadata": {},
     "outputs": [],
     "prompt_number": 170
    },
    {
     "cell_type": "markdown",
     "metadata": {},
     "source": [
      "In the code below, Time Hours is being stripped to hh:mm:ss format and is being stored in ufotime dataframe."
     ]
    },
    {
     "cell_type": "code",
     "collapsed": false,
     "input": [
      "t=[]\n",
      "for x in xrange(ufotimebucket.count()):\n",
      "    t.append(ufotimebucket['Time Hours'][x].strftime(\"%H:%M:%S\"))\n",
      "\n",
      "ufotime = pd.DataFrame(np.arange(24),\n",
      "                 index=[t])"
     ],
     "language": "python",
     "metadata": {},
     "outputs": [],
     "prompt_number": 171
    },
    {
     "cell_type": "markdown",
     "metadata": {},
     "source": [
      "In the code below, the sum of sightings for binned time hours is being stored in a new column 'No of Sightings'."
     ]
    },
    {
     "cell_type": "code",
     "collapsed": false,
     "input": [
      "s=[]\n",
      "for x in xrange(time_hours_bucket.count()):\n",
      "    s.append(time_hours_bucket[x])\n",
      "ufotime['No of Sightings'] = s"
     ],
     "language": "python",
     "metadata": {},
     "outputs": [],
     "prompt_number": 172
    },
    {
     "cell_type": "markdown",
     "metadata": {},
     "source": [
      "The extra column is being dropped from ufotime."
     ]
    },
    {
     "cell_type": "code",
     "collapsed": false,
     "input": [
      "ufotime = ufotime.drop(0, axis=1)"
     ],
     "language": "python",
     "metadata": {},
     "outputs": [],
     "prompt_number": 173
    },
    {
     "cell_type": "markdown",
     "metadata": {},
     "source": [
      "ufotime index is named as 'Hour of the day'"
     ]
    },
    {
     "cell_type": "code",
     "collapsed": false,
     "input": [
      "ufotime.index.name = 'Hour of the day'"
     ],
     "language": "python",
     "metadata": {},
     "outputs": [],
     "prompt_number": 174
    },
    {
     "cell_type": "markdown",
     "metadata": {},
     "source": [
      "Now we save the cleaned UFOTime dateset to a csv for later analysis needing the no of light sightings with respect to the time of day."
     ]
    },
    {
     "cell_type": "code",
     "collapsed": false,
     "input": [
      "ufotime.to_csv(r'Clean_data/UFOTime', header=True)\n",
      "ufotime.head()"
     ],
     "language": "python",
     "metadata": {},
     "outputs": [
      {
       "html": [
        "<div style=\"max-height:1000px;max-width:1500px;overflow:auto;\">\n",
        "<table border=\"1\" class=\"dataframe\">\n",
        "  <thead>\n",
        "    <tr style=\"text-align: right;\">\n",
        "      <th></th>\n",
        "      <th>No of Sightings</th>\n",
        "    </tr>\n",
        "    <tr>\n",
        "      <th>Hour of the day</th>\n",
        "      <th></th>\n",
        "    </tr>\n",
        "  </thead>\n",
        "  <tbody>\n",
        "    <tr>\n",
        "      <th>00:00:00</th>\n",
        "      <td> 4680</td>\n",
        "    </tr>\n",
        "    <tr>\n",
        "      <th>01:00:00</th>\n",
        "      <td> 3625</td>\n",
        "    </tr>\n",
        "    <tr>\n",
        "      <th>02:00:00</th>\n",
        "      <td> 2651</td>\n",
        "    </tr>\n",
        "    <tr>\n",
        "      <th>03:00:00</th>\n",
        "      <td> 2258</td>\n",
        "    </tr>\n",
        "    <tr>\n",
        "      <th>04:00:00</th>\n",
        "      <td> 1730</td>\n",
        "    </tr>\n",
        "  </tbody>\n",
        "</table>\n",
        "</div>"
       ],
       "metadata": {},
       "output_type": "pyout",
       "prompt_number": 175,
       "text": [
        "                 No of Sightings\n",
        "Hour of the day                 \n",
        "00:00:00                    4680\n",
        "01:00:00                    3625\n",
        "02:00:00                    2651\n",
        "03:00:00                    2258\n",
        "04:00:00                    1730"
       ]
      }
     ],
     "prompt_number": 175
    },
    {
     "cell_type": "markdown",
     "metadata": {},
     "source": [
      "Similarly, in the code below, bins are created for every hour in a day for the hourly_light_sightings series. The result is being stored in a time_hours_shape_bucket series."
     ]
    },
    {
     "cell_type": "code",
     "collapsed": false,
     "input": [
      "time_hours_shape_bucket = hourly_light_sightings.resample('H', how='sum')"
     ],
     "language": "python",
     "metadata": {},
     "outputs": [],
     "prompt_number": 176
    },
    {
     "cell_type": "code",
     "collapsed": false,
     "input": [
      "time_hours_shape_bucket.head()"
     ],
     "language": "python",
     "metadata": {},
     "outputs": [
      {
       "metadata": {},
       "output_type": "pyout",
       "prompt_number": 177,
       "text": [
        "Time Hours\n",
        "1900-01-01 00:00:00    1014\n",
        "1900-01-01 01:00:00     773\n",
        "1900-01-01 02:00:00     558\n",
        "1900-01-01 03:00:00     521\n",
        "1900-01-01 04:00:00     406\n",
        "Freq: H, Name: Shape, dtype: int64"
       ]
      }
     ],
     "prompt_number": 177
    },
    {
     "cell_type": "markdown",
     "metadata": {},
     "source": [
      "Here, a dataframe ufotimebucketshape is being created to store time_hours_bucket indices."
     ]
    },
    {
     "cell_type": "code",
     "collapsed": false,
     "input": [
      "ufotimebucketShape = pd.DataFrame(time_hours_shape_bucket.index)"
     ],
     "language": "python",
     "metadata": {},
     "outputs": [],
     "prompt_number": 178
    },
    {
     "cell_type": "markdown",
     "metadata": {},
     "source": [
      "In the code below, Time Hours is being stripped to hh:mm:ss format and is being stored in ufotime dataframe."
     ]
    },
    {
     "cell_type": "code",
     "collapsed": false,
     "input": [
      "t1=[]\n",
      "for x in xrange(ufotimebucketShape.count()):\n",
      "    t1.append(ufotimebucketShape['Time Hours'][x].strftime(\"%H:%M:%S\"))\n",
      "\n",
      "ufotimeshape = pd.DataFrame(np.arange(24),\n",
      "                 index=[t1])"
     ],
     "language": "python",
     "metadata": {},
     "outputs": [],
     "prompt_number": 179
    },
    {
     "cell_type": "markdown",
     "metadata": {},
     "source": [
      "In the code below, the sum of sightings for binned time hours is being stored in a new column 'No of Sightings'."
     ]
    },
    {
     "cell_type": "code",
     "collapsed": false,
     "input": [
      "s1=[]\n",
      "for x in xrange(time_hours_shape_bucket.count()):\n",
      "    s1.append(time_hours_shape_bucket[x])\n",
      "ufotimeshape['Light Sightings'] = s1"
     ],
     "language": "python",
     "metadata": {},
     "outputs": [],
     "prompt_number": 180
    },
    {
     "cell_type": "code",
     "collapsed": false,
     "input": [
      "ufotimeshape.head()"
     ],
     "language": "python",
     "metadata": {},
     "outputs": [
      {
       "html": [
        "<div style=\"max-height:1000px;max-width:1500px;overflow:auto;\">\n",
        "<table border=\"1\" class=\"dataframe\">\n",
        "  <thead>\n",
        "    <tr style=\"text-align: right;\">\n",
        "      <th></th>\n",
        "      <th>0</th>\n",
        "      <th>Light Sightings</th>\n",
        "    </tr>\n",
        "  </thead>\n",
        "  <tbody>\n",
        "    <tr>\n",
        "      <th>00:00:00</th>\n",
        "      <td> 0</td>\n",
        "      <td> 1014</td>\n",
        "    </tr>\n",
        "    <tr>\n",
        "      <th>01:00:00</th>\n",
        "      <td> 1</td>\n",
        "      <td>  773</td>\n",
        "    </tr>\n",
        "    <tr>\n",
        "      <th>02:00:00</th>\n",
        "      <td> 2</td>\n",
        "      <td>  558</td>\n",
        "    </tr>\n",
        "    <tr>\n",
        "      <th>03:00:00</th>\n",
        "      <td> 3</td>\n",
        "      <td>  521</td>\n",
        "    </tr>\n",
        "    <tr>\n",
        "      <th>04:00:00</th>\n",
        "      <td> 4</td>\n",
        "      <td>  406</td>\n",
        "    </tr>\n",
        "  </tbody>\n",
        "</table>\n",
        "</div>"
       ],
       "metadata": {},
       "output_type": "pyout",
       "prompt_number": 181,
       "text": [
        "          0  Light Sightings\n",
        "00:00:00  0             1014\n",
        "01:00:00  1              773\n",
        "02:00:00  2              558\n",
        "03:00:00  3              521\n",
        "04:00:00  4              406"
       ]
      }
     ],
     "prompt_number": 181
    },
    {
     "cell_type": "markdown",
     "metadata": {},
     "source": [
      "The extra column is being dropped."
     ]
    },
    {
     "cell_type": "code",
     "collapsed": false,
     "input": [
      "ufotimeshape = ufotimeshape.drop(0, axis=1)"
     ],
     "language": "python",
     "metadata": {},
     "outputs": [],
     "prompt_number": 182
    },
    {
     "cell_type": "code",
     "collapsed": false,
     "input": [
      "ufotimeshape.head()"
     ],
     "language": "python",
     "metadata": {},
     "outputs": [
      {
       "html": [
        "<div style=\"max-height:1000px;max-width:1500px;overflow:auto;\">\n",
        "<table border=\"1\" class=\"dataframe\">\n",
        "  <thead>\n",
        "    <tr style=\"text-align: right;\">\n",
        "      <th></th>\n",
        "      <th>Light Sightings</th>\n",
        "    </tr>\n",
        "  </thead>\n",
        "  <tbody>\n",
        "    <tr>\n",
        "      <th>00:00:00</th>\n",
        "      <td> 1014</td>\n",
        "    </tr>\n",
        "    <tr>\n",
        "      <th>01:00:00</th>\n",
        "      <td>  773</td>\n",
        "    </tr>\n",
        "    <tr>\n",
        "      <th>02:00:00</th>\n",
        "      <td>  558</td>\n",
        "    </tr>\n",
        "    <tr>\n",
        "      <th>03:00:00</th>\n",
        "      <td>  521</td>\n",
        "    </tr>\n",
        "    <tr>\n",
        "      <th>04:00:00</th>\n",
        "      <td>  406</td>\n",
        "    </tr>\n",
        "  </tbody>\n",
        "</table>\n",
        "</div>"
       ],
       "metadata": {},
       "output_type": "pyout",
       "prompt_number": 183,
       "text": [
        "          Light Sightings\n",
        "00:00:00             1014\n",
        "01:00:00              773\n",
        "02:00:00              558\n",
        "03:00:00              521\n",
        "04:00:00              406"
       ]
      }
     ],
     "prompt_number": 183
    },
    {
     "cell_type": "markdown",
     "metadata": {},
     "source": [
      "To compare the no. of sightings with respect to no of light sightings over different hours in a day, we joined the ufotime dataset with ufotimeshape dataset."
     ]
    },
    {
     "cell_type": "code",
     "collapsed": false,
     "input": [
      "night_light_sightings = ufotimeshape.join(ufotime)"
     ],
     "language": "python",
     "metadata": {},
     "outputs": [],
     "prompt_number": 184
    },
    {
     "cell_type": "code",
     "collapsed": false,
     "input": [
      "night_light_sightings.index.name = 'Time Hours'"
     ],
     "language": "python",
     "metadata": {},
     "outputs": [],
     "prompt_number": 185
    },
    {
     "cell_type": "markdown",
     "metadata": {},
     "source": [
      "Here we are converting a clean dataset into a csv file for our analysis of no of sightings, no of light sightings with respect to different hours in a day."
     ]
    },
    {
     "cell_type": "code",
     "collapsed": false,
     "input": [
      "night_light_sightings.to_csv(r'Clean_data/Night_light_sightings', header=True)\n",
      "night_light_sightings.head()"
     ],
     "language": "python",
     "metadata": {},
     "outputs": [
      {
       "html": [
        "<div style=\"max-height:1000px;max-width:1500px;overflow:auto;\">\n",
        "<table border=\"1\" class=\"dataframe\">\n",
        "  <thead>\n",
        "    <tr style=\"text-align: right;\">\n",
        "      <th></th>\n",
        "      <th>Light Sightings</th>\n",
        "      <th>No of Sightings</th>\n",
        "    </tr>\n",
        "    <tr>\n",
        "      <th>Time Hours</th>\n",
        "      <th></th>\n",
        "      <th></th>\n",
        "    </tr>\n",
        "  </thead>\n",
        "  <tbody>\n",
        "    <tr>\n",
        "      <th>00:00:00</th>\n",
        "      <td> 1014</td>\n",
        "      <td> 4680</td>\n",
        "    </tr>\n",
        "    <tr>\n",
        "      <th>01:00:00</th>\n",
        "      <td>  773</td>\n",
        "      <td> 3625</td>\n",
        "    </tr>\n",
        "    <tr>\n",
        "      <th>02:00:00</th>\n",
        "      <td>  558</td>\n",
        "      <td> 2651</td>\n",
        "    </tr>\n",
        "    <tr>\n",
        "      <th>03:00:00</th>\n",
        "      <td>  521</td>\n",
        "      <td> 2258</td>\n",
        "    </tr>\n",
        "    <tr>\n",
        "      <th>04:00:00</th>\n",
        "      <td>  406</td>\n",
        "      <td> 1730</td>\n",
        "    </tr>\n",
        "  </tbody>\n",
        "</table>\n",
        "</div>"
       ],
       "metadata": {},
       "output_type": "pyout",
       "prompt_number": 186,
       "text": [
        "            Light Sightings  No of Sightings\n",
        "Time Hours                                  \n",
        "00:00:00               1014             4680\n",
        "01:00:00                773             3625\n",
        "02:00:00                558             2651\n",
        "03:00:00                521             2258\n",
        "04:00:00                406             1730"
       ]
      }
     ],
     "prompt_number": 186
    },
    {
     "cell_type": "heading",
     "level": 2,
     "metadata": {},
     "source": [
      "Sightings by Shape"
     ]
    },
    {
     "cell_type": "markdown",
     "metadata": {},
     "source": [
      "In order to analyse what shapes are observed and reported by people, creating a dataset which contains the value counts of the shapes."
     ]
    },
    {
     "cell_type": "code",
     "collapsed": false,
     "input": [
      "ufoshape = ufo\n",
      "ShapeCounts = pd.DataFrame({'ShapeCounts':ufoshape['Shape'].value_counts()})"
     ],
     "language": "python",
     "metadata": {},
     "outputs": [],
     "prompt_number": 187
    },
    {
     "cell_type": "code",
     "collapsed": false,
     "input": [
      "ShapeCounts.head()"
     ],
     "language": "python",
     "metadata": {},
     "outputs": [
      {
       "html": [
        "<div style=\"max-height:1000px;max-width:1500px;overflow:auto;\">\n",
        "<table border=\"1\" class=\"dataframe\">\n",
        "  <thead>\n",
        "    <tr style=\"text-align: right;\">\n",
        "      <th></th>\n",
        "      <th>ShapeCounts</th>\n",
        "    </tr>\n",
        "  </thead>\n",
        "  <tbody>\n",
        "    <tr>\n",
        "      <th>LIGHT</th>\n",
        "      <td> 19058</td>\n",
        "    </tr>\n",
        "    <tr>\n",
        "      <th>TRIANGLE</th>\n",
        "      <td>  8969</td>\n",
        "    </tr>\n",
        "    <tr>\n",
        "      <th>CIRCLE</th>\n",
        "      <td>  8275</td>\n",
        "    </tr>\n",
        "    <tr>\n",
        "      <th>FIREBALL</th>\n",
        "      <td>  7218</td>\n",
        "    </tr>\n",
        "    <tr>\n",
        "      <th>UNKNOWN</th>\n",
        "      <td>  6690</td>\n",
        "    </tr>\n",
        "  </tbody>\n",
        "</table>\n",
        "</div>"
       ],
       "metadata": {},
       "output_type": "pyout",
       "prompt_number": 211,
       "text": [
        "          ShapeCounts\n",
        "LIGHT           19058\n",
        "TRIANGLE         8969\n",
        "CIRCLE           8275\n",
        "FIREBALL         7218\n",
        "UNKNOWN          6690"
       ]
      }
     ],
     "prompt_number": 211
    },
    {
     "cell_type": "code",
     "collapsed": false,
     "input": [
      "ShapeCounts.index.name = 'Shape'"
     ],
     "language": "python",
     "metadata": {},
     "outputs": [],
     "prompt_number": 213
    },
    {
     "cell_type": "markdown",
     "metadata": {},
     "source": [
      "Writing the dataframe into Sightings_by_shape csv that can be used to plot a graph."
     ]
    },
    {
     "cell_type": "code",
     "collapsed": false,
     "input": [
      "ShapeCounts.to_csv(r'Clean_data/Sightings_by_shape')"
     ],
     "language": "python",
     "metadata": {},
     "outputs": [],
     "prompt_number": 214
    },
    {
     "cell_type": "heading",
     "level": 2,
     "metadata": {},
     "source": [
      "Light Shaped Sightings by State"
     ]
    },
    {
     "cell_type": "markdown",
     "metadata": {},
     "source": [
      "In order to analyse and creat a heatmap of which states observe what amount of unidentified lights, calculating the total numner of unidentified lights observed in each state."
     ]
    },
    {
     "cell_type": "code",
     "collapsed": false,
     "input": [
      "ufoshape = ufoshape[ufoshape['Shape'] == 'LIGHT']\n",
      "ufoshape = ufoshape.groupby(ufoshape['State'])\n",
      "light_state = ufoshape.State.count()\n",
      "light_state.head()"
     ],
     "language": "python",
     "metadata": {},
     "outputs": [
      {
       "metadata": {},
       "output_type": "pyout",
       "prompt_number": 189,
       "text": [
        "State\n",
        "AB        82\n",
        "AK       109\n",
        "AL       169\n",
        "AR       161\n",
        "AZ       688\n",
        "Name: State, dtype: int64"
       ]
      }
     ],
     "prompt_number": 189
    },
    {
     "cell_type": "code",
     "collapsed": false,
     "input": [
      "light_state = pd.DataFrame(light_state)\n",
      "light_state.head()"
     ],
     "language": "python",
     "metadata": {},
     "outputs": [
      {
       "html": [
        "<div style=\"max-height:1000px;max-width:1500px;overflow:auto;\">\n",
        "<table border=\"1\" class=\"dataframe\">\n",
        "  <thead>\n",
        "    <tr style=\"text-align: right;\">\n",
        "      <th></th>\n",
        "      <th>State</th>\n",
        "    </tr>\n",
        "    <tr>\n",
        "      <th>State</th>\n",
        "      <th></th>\n",
        "    </tr>\n",
        "  </thead>\n",
        "  <tbody>\n",
        "    <tr>\n",
        "      <th>AB</th>\n",
        "      <td>  82</td>\n",
        "    </tr>\n",
        "    <tr>\n",
        "      <th>AK</th>\n",
        "      <td> 109</td>\n",
        "    </tr>\n",
        "    <tr>\n",
        "      <th>AL</th>\n",
        "      <td> 169</td>\n",
        "    </tr>\n",
        "    <tr>\n",
        "      <th>AR</th>\n",
        "      <td> 161</td>\n",
        "    </tr>\n",
        "    <tr>\n",
        "      <th>AZ</th>\n",
        "      <td> 688</td>\n",
        "    </tr>\n",
        "  </tbody>\n",
        "</table>\n",
        "</div>"
       ],
       "metadata": {},
       "output_type": "pyout",
       "prompt_number": 190,
       "text": [
        "       State\n",
        "State       \n",
        "AB        82\n",
        "AK       109\n",
        "AL       169\n",
        "AR       161\n",
        "AZ       688"
       ]
      }
     ],
     "prompt_number": 190
    },
    {
     "cell_type": "code",
     "collapsed": false,
     "input": [
      "light_state.rename(columns={'State':'Light_sightings'}, inplace=True)"
     ],
     "language": "python",
     "metadata": {},
     "outputs": [],
     "prompt_number": 191
    },
    {
     "cell_type": "markdown",
     "metadata": {},
     "source": [
      "Saving the above dataframe into Light_state csv to be used later to build a heatmap."
     ]
    },
    {
     "cell_type": "code",
     "collapsed": false,
     "input": [
      "light_state.to_csv(r'Clean_data/Light_state', header=True)"
     ],
     "language": "python",
     "metadata": {},
     "outputs": [],
     "prompt_number": 192
    },
    {
     "cell_type": "heading",
     "level": 2,
     "metadata": {},
     "source": [
      "Sightings by Month"
     ]
    },
    {
     "cell_type": "code",
     "collapsed": false,
     "input": [
      "hourly.head()"
     ],
     "language": "python",
     "metadata": {},
     "outputs": [
      {
       "html": [
        "<div style=\"max-height:1000px;max-width:1500px;overflow:auto;\">\n",
        "<table border=\"1\" class=\"dataframe\">\n",
        "  <thead>\n",
        "    <tr style=\"text-align: right;\">\n",
        "      <th></th>\n",
        "      <th>Date</th>\n",
        "      <th>Time</th>\n",
        "      <th>Period</th>\n",
        "      <th>City</th>\n",
        "      <th>State</th>\n",
        "      <th>Shape</th>\n",
        "      <th>Duration</th>\n",
        "      <th>Summary</th>\n",
        "      <th>Posted</th>\n",
        "      <th>USA</th>\n",
        "      <th>Time Hours</th>\n",
        "    </tr>\n",
        "  </thead>\n",
        "  <tbody>\n",
        "    <tr>\n",
        "      <th>0</th>\n",
        "      <td> 11/14/2014 0:00</td>\n",
        "      <td>  1:05:00</td>\n",
        "      <td> AM</td>\n",
        "      <td>       ROGERS</td>\n",
        "      <td> AR</td>\n",
        "      <td> LIGHT</td>\n",
        "      <td>                5 seconds</td>\n",
        "      <td> A light (kind of green/blue) moving across the...</td>\n",
        "      <td> 11/14/2014</td>\n",
        "      <td> True</td>\n",
        "      <td>1900-01-01 01:05:00</td>\n",
        "    </tr>\n",
        "    <tr>\n",
        "      <th>1</th>\n",
        "      <td> 11/12/2014 0:00</td>\n",
        "      <td>  6:30:00</td>\n",
        "      <td> PM</td>\n",
        "      <td> PHILADELPHIA</td>\n",
        "      <td> PA</td>\n",
        "      <td> LIGHT</td>\n",
        "      <td>               20 minutes</td>\n",
        "      <td> Lights flickering in the North Western Sky ove...</td>\n",
        "      <td> 11/14/2014</td>\n",
        "      <td> True</td>\n",
        "      <td>1900-01-01 18:30:00</td>\n",
        "    </tr>\n",
        "    <tr>\n",
        "      <th>2</th>\n",
        "      <td> 11/12/2014 0:00</td>\n",
        "      <td>  5:00:00</td>\n",
        "      <td> PM</td>\n",
        "      <td> CENTRAL CITY</td>\n",
        "      <td> NE</td>\n",
        "      <td> LIGHT</td>\n",
        "      <td>               15 minutes</td>\n",
        "      <td>     Light orbs seen in daylight with sun setting.</td>\n",
        "      <td> 11/14/2014</td>\n",
        "      <td> True</td>\n",
        "      <td>1900-01-01 17:00:00</td>\n",
        "    </tr>\n",
        "    <tr>\n",
        "      <th>3</th>\n",
        "      <td> 11/11/2014 0:00</td>\n",
        "      <td> 10:25:00</td>\n",
        "      <td> PM</td>\n",
        "      <td>         WADE</td>\n",
        "      <td> NC</td>\n",
        "      <td> LIGHT</td>\n",
        "      <td> multiple hours and still</td>\n",
        "      <td> Since I made my first report on the 7th I have...</td>\n",
        "      <td> 11/14/2014</td>\n",
        "      <td> True</td>\n",
        "      <td>1900-01-01 22:25:00</td>\n",
        "    </tr>\n",
        "    <tr>\n",
        "      <th>4</th>\n",
        "      <td> 11/11/2014 0:00</td>\n",
        "      <td>  5:15:00</td>\n",
        "      <td> PM</td>\n",
        "      <td>      NEWPORT</td>\n",
        "      <td> VT</td>\n",
        "      <td> LIGHT</td>\n",
        "      <td>               15 seconds</td>\n",
        "      <td>                       Single orange silent light.</td>\n",
        "      <td> 11/14/2014</td>\n",
        "      <td> True</td>\n",
        "      <td>1900-01-01 17:15:00</td>\n",
        "    </tr>\n",
        "  </tbody>\n",
        "</table>\n",
        "</div>"
       ],
       "metadata": {},
       "output_type": "pyout",
       "prompt_number": 193,
       "text": [
        "              Date      Time Period          City State  Shape  \\\n",
        "0  11/14/2014 0:00   1:05:00     AM        ROGERS    AR  LIGHT   \n",
        "1  11/12/2014 0:00   6:30:00     PM  PHILADELPHIA    PA  LIGHT   \n",
        "2  11/12/2014 0:00   5:00:00     PM  CENTRAL CITY    NE  LIGHT   \n",
        "3  11/11/2014 0:00  10:25:00     PM          WADE    NC  LIGHT   \n",
        "4  11/11/2014 0:00   5:15:00     PM       NEWPORT    VT  LIGHT   \n",
        "\n",
        "                   Duration  \\\n",
        "0                 5 seconds   \n",
        "1                20 minutes   \n",
        "2                15 minutes   \n",
        "3  multiple hours and still   \n",
        "4                15 seconds   \n",
        "\n",
        "                                             Summary      Posted   USA  \\\n",
        "0  A light (kind of green/blue) moving across the...  11/14/2014  True   \n",
        "1  Lights flickering in the North Western Sky ove...  11/14/2014  True   \n",
        "2      Light orbs seen in daylight with sun setting.  11/14/2014  True   \n",
        "3  Since I made my first report on the 7th I have...  11/14/2014  True   \n",
        "4                        Single orange silent light.  11/14/2014  True   \n",
        "\n",
        "           Time Hours  \n",
        "0 1900-01-01 01:05:00  \n",
        "1 1900-01-01 18:30:00  \n",
        "2 1900-01-01 17:00:00  \n",
        "3 1900-01-01 22:25:00  \n",
        "4 1900-01-01 17:15:00  "
       ]
      }
     ],
     "prompt_number": 193
    },
    {
     "cell_type": "markdown",
     "metadata": {},
     "source": [
      "We will now split the date from the time in the date column. This will take a few minutes."
     ]
    },
    {
     "cell_type": "code",
     "collapsed": false,
     "input": [
      "split_datetime = hourly.join(hourly['Date'].apply(lambda x: pd.Series(x.split(' '))))"
     ],
     "language": "python",
     "metadata": {},
     "outputs": [],
     "prompt_number": 194
    },
    {
     "cell_type": "markdown",
     "metadata": {},
     "source": [
      "Renaming the extra columns to Sighting Date and GTime respectively"
     ]
    },
    {
     "cell_type": "code",
     "collapsed": false,
     "input": [
      "split_datetime.rename(columns={0:'Sighting Date', 1:'GTime'}, inplace=True)"
     ],
     "language": "python",
     "metadata": {},
     "outputs": [],
     "prompt_number": 195
    },
    {
     "cell_type": "markdown",
     "metadata": {},
     "source": [
      "Removing the garbage values from split_datetime dataset"
     ]
    },
    {
     "cell_type": "code",
     "collapsed": false,
     "input": [
      "bad_data = split_datetime['Posted'].isin(['00/00/000', 'Monday, August 15, 2011 \\x95',' ', '35948','35861', '36466'])\n",
      "split_datetime=split_datetime[~bad_data] \n",
      "split_datetime.head()"
     ],
     "language": "python",
     "metadata": {},
     "outputs": [
      {
       "html": [
        "<div style=\"max-height:1000px;max-width:1500px;overflow:auto;\">\n",
        "<table border=\"1\" class=\"dataframe\">\n",
        "  <thead>\n",
        "    <tr style=\"text-align: right;\">\n",
        "      <th></th>\n",
        "      <th>Date</th>\n",
        "      <th>Time</th>\n",
        "      <th>Period</th>\n",
        "      <th>City</th>\n",
        "      <th>State</th>\n",
        "      <th>Shape</th>\n",
        "      <th>Duration</th>\n",
        "      <th>Summary</th>\n",
        "      <th>Posted</th>\n",
        "      <th>USA</th>\n",
        "      <th>Time Hours</th>\n",
        "      <th>Sighting Date</th>\n",
        "      <th>GTime</th>\n",
        "    </tr>\n",
        "  </thead>\n",
        "  <tbody>\n",
        "    <tr>\n",
        "      <th>0</th>\n",
        "      <td> 11/14/2014 0:00</td>\n",
        "      <td>  1:05:00</td>\n",
        "      <td> AM</td>\n",
        "      <td>       ROGERS</td>\n",
        "      <td> AR</td>\n",
        "      <td> LIGHT</td>\n",
        "      <td>                5 seconds</td>\n",
        "      <td> A light (kind of green/blue) moving across the...</td>\n",
        "      <td> 11/14/2014</td>\n",
        "      <td> True</td>\n",
        "      <td>1900-01-01 01:05:00</td>\n",
        "      <td> 11/14/2014</td>\n",
        "      <td> 0:00</td>\n",
        "    </tr>\n",
        "    <tr>\n",
        "      <th>1</th>\n",
        "      <td> 11/12/2014 0:00</td>\n",
        "      <td>  6:30:00</td>\n",
        "      <td> PM</td>\n",
        "      <td> PHILADELPHIA</td>\n",
        "      <td> PA</td>\n",
        "      <td> LIGHT</td>\n",
        "      <td>               20 minutes</td>\n",
        "      <td> Lights flickering in the North Western Sky ove...</td>\n",
        "      <td> 11/14/2014</td>\n",
        "      <td> True</td>\n",
        "      <td>1900-01-01 18:30:00</td>\n",
        "      <td> 11/12/2014</td>\n",
        "      <td> 0:00</td>\n",
        "    </tr>\n",
        "    <tr>\n",
        "      <th>2</th>\n",
        "      <td> 11/12/2014 0:00</td>\n",
        "      <td>  5:00:00</td>\n",
        "      <td> PM</td>\n",
        "      <td> CENTRAL CITY</td>\n",
        "      <td> NE</td>\n",
        "      <td> LIGHT</td>\n",
        "      <td>               15 minutes</td>\n",
        "      <td>     Light orbs seen in daylight with sun setting.</td>\n",
        "      <td> 11/14/2014</td>\n",
        "      <td> True</td>\n",
        "      <td>1900-01-01 17:00:00</td>\n",
        "      <td> 11/12/2014</td>\n",
        "      <td> 0:00</td>\n",
        "    </tr>\n",
        "    <tr>\n",
        "      <th>3</th>\n",
        "      <td> 11/11/2014 0:00</td>\n",
        "      <td> 10:25:00</td>\n",
        "      <td> PM</td>\n",
        "      <td>         WADE</td>\n",
        "      <td> NC</td>\n",
        "      <td> LIGHT</td>\n",
        "      <td> multiple hours and still</td>\n",
        "      <td> Since I made my first report on the 7th I have...</td>\n",
        "      <td> 11/14/2014</td>\n",
        "      <td> True</td>\n",
        "      <td>1900-01-01 22:25:00</td>\n",
        "      <td> 11/11/2014</td>\n",
        "      <td> 0:00</td>\n",
        "    </tr>\n",
        "    <tr>\n",
        "      <th>4</th>\n",
        "      <td> 11/11/2014 0:00</td>\n",
        "      <td>  5:15:00</td>\n",
        "      <td> PM</td>\n",
        "      <td>      NEWPORT</td>\n",
        "      <td> VT</td>\n",
        "      <td> LIGHT</td>\n",
        "      <td>               15 seconds</td>\n",
        "      <td>                       Single orange silent light.</td>\n",
        "      <td> 11/14/2014</td>\n",
        "      <td> True</td>\n",
        "      <td>1900-01-01 17:15:00</td>\n",
        "      <td> 11/11/2014</td>\n",
        "      <td> 0:00</td>\n",
        "    </tr>\n",
        "  </tbody>\n",
        "</table>\n",
        "</div>"
       ],
       "metadata": {},
       "output_type": "pyout",
       "prompt_number": 196,
       "text": [
        "              Date      Time Period          City State  Shape  \\\n",
        "0  11/14/2014 0:00   1:05:00     AM        ROGERS    AR  LIGHT   \n",
        "1  11/12/2014 0:00   6:30:00     PM  PHILADELPHIA    PA  LIGHT   \n",
        "2  11/12/2014 0:00   5:00:00     PM  CENTRAL CITY    NE  LIGHT   \n",
        "3  11/11/2014 0:00  10:25:00     PM          WADE    NC  LIGHT   \n",
        "4  11/11/2014 0:00   5:15:00     PM       NEWPORT    VT  LIGHT   \n",
        "\n",
        "                   Duration  \\\n",
        "0                 5 seconds   \n",
        "1                20 minutes   \n",
        "2                15 minutes   \n",
        "3  multiple hours and still   \n",
        "4                15 seconds   \n",
        "\n",
        "                                             Summary      Posted   USA  \\\n",
        "0  A light (kind of green/blue) moving across the...  11/14/2014  True   \n",
        "1  Lights flickering in the North Western Sky ove...  11/14/2014  True   \n",
        "2      Light orbs seen in daylight with sun setting.  11/14/2014  True   \n",
        "3  Since I made my first report on the 7th I have...  11/14/2014  True   \n",
        "4                        Single orange silent light.  11/14/2014  True   \n",
        "\n",
        "           Time Hours Sighting Date GTime  \n",
        "0 1900-01-01 01:05:00    11/14/2014  0:00  \n",
        "1 1900-01-01 18:30:00    11/12/2014  0:00  \n",
        "2 1900-01-01 17:00:00    11/12/2014  0:00  \n",
        "3 1900-01-01 22:25:00    11/11/2014  0:00  \n",
        "4 1900-01-01 17:15:00    11/11/2014  0:00  "
       ]
      }
     ],
     "prompt_number": 196
    },
    {
     "cell_type": "code",
     "collapsed": false,
     "input": [
      "non_us = split_datetime['USA'].isin([0])\n",
      "split_datetime=split_datetime[~non_us] \n",
      "#split_datetime.head()"
     ],
     "language": "python",
     "metadata": {},
     "outputs": [],
     "prompt_number": 197
    },
    {
     "cell_type": "code",
     "collapsed": false,
     "input": [
      "occdelay = split_datetime.groupby(split_datetime['USA'])\n",
      "occ = occdelay.USA.count()\n",
      "occ"
     ],
     "language": "python",
     "metadata": {},
     "outputs": [
      {
       "metadata": {},
       "output_type": "pyout",
       "prompt_number": 198,
       "text": [
        "USA\n",
        "True    78192\n",
        "Name: USA, dtype: int64"
       ]
      }
     ],
     "prompt_number": 198
    },
    {
     "cell_type": "code",
     "collapsed": false,
     "input": [
      "assert type(split_datetime['Sighting Date'][0]) == str"
     ],
     "language": "python",
     "metadata": {},
     "outputs": [],
     "prompt_number": 199
    },
    {
     "cell_type": "markdown",
     "metadata": {},
     "source": [
      "We will now split the dates into their respective Day, Month and year. Please note this will take a few minutes."
     ]
    },
    {
     "cell_type": "code",
     "collapsed": false,
     "input": [
      "split_datetime=split_datetime.join(split_datetime['Sighting Date'].apply(lambda x: pd.Series(x.split('/'))))"
     ],
     "language": "python",
     "metadata": {},
     "outputs": [],
     "prompt_number": 200
    },
    {
     "cell_type": "code",
     "collapsed": false,
     "input": [
      "split_datetime.head()"
     ],
     "language": "python",
     "metadata": {},
     "outputs": [
      {
       "html": [
        "<div style=\"max-height:1000px;max-width:1500px;overflow:auto;\">\n",
        "<table border=\"1\" class=\"dataframe\">\n",
        "  <thead>\n",
        "    <tr style=\"text-align: right;\">\n",
        "      <th></th>\n",
        "      <th>Date</th>\n",
        "      <th>Time</th>\n",
        "      <th>Period</th>\n",
        "      <th>City</th>\n",
        "      <th>State</th>\n",
        "      <th>Shape</th>\n",
        "      <th>Duration</th>\n",
        "      <th>Summary</th>\n",
        "      <th>Posted</th>\n",
        "      <th>USA</th>\n",
        "      <th>Time Hours</th>\n",
        "      <th>Sighting Date</th>\n",
        "      <th>GTime</th>\n",
        "      <th>0</th>\n",
        "      <th>1</th>\n",
        "      <th>2</th>\n",
        "    </tr>\n",
        "  </thead>\n",
        "  <tbody>\n",
        "    <tr>\n",
        "      <th>0</th>\n",
        "      <td> 11/14/2014 0:00</td>\n",
        "      <td>  1:05:00</td>\n",
        "      <td> AM</td>\n",
        "      <td>       ROGERS</td>\n",
        "      <td> AR</td>\n",
        "      <td> LIGHT</td>\n",
        "      <td>                5 seconds</td>\n",
        "      <td> A light (kind of green/blue) moving across the...</td>\n",
        "      <td> 11/14/2014</td>\n",
        "      <td> True</td>\n",
        "      <td>1900-01-01 01:05:00</td>\n",
        "      <td> 11/14/2014</td>\n",
        "      <td> 0:00</td>\n",
        "      <td> 11</td>\n",
        "      <td> 14</td>\n",
        "      <td> 2014</td>\n",
        "    </tr>\n",
        "    <tr>\n",
        "      <th>1</th>\n",
        "      <td> 11/12/2014 0:00</td>\n",
        "      <td>  6:30:00</td>\n",
        "      <td> PM</td>\n",
        "      <td> PHILADELPHIA</td>\n",
        "      <td> PA</td>\n",
        "      <td> LIGHT</td>\n",
        "      <td>               20 minutes</td>\n",
        "      <td> Lights flickering in the North Western Sky ove...</td>\n",
        "      <td> 11/14/2014</td>\n",
        "      <td> True</td>\n",
        "      <td>1900-01-01 18:30:00</td>\n",
        "      <td> 11/12/2014</td>\n",
        "      <td> 0:00</td>\n",
        "      <td> 11</td>\n",
        "      <td> 12</td>\n",
        "      <td> 2014</td>\n",
        "    </tr>\n",
        "    <tr>\n",
        "      <th>2</th>\n",
        "      <td> 11/12/2014 0:00</td>\n",
        "      <td>  5:00:00</td>\n",
        "      <td> PM</td>\n",
        "      <td> CENTRAL CITY</td>\n",
        "      <td> NE</td>\n",
        "      <td> LIGHT</td>\n",
        "      <td>               15 minutes</td>\n",
        "      <td>     Light orbs seen in daylight with sun setting.</td>\n",
        "      <td> 11/14/2014</td>\n",
        "      <td> True</td>\n",
        "      <td>1900-01-01 17:00:00</td>\n",
        "      <td> 11/12/2014</td>\n",
        "      <td> 0:00</td>\n",
        "      <td> 11</td>\n",
        "      <td> 12</td>\n",
        "      <td> 2014</td>\n",
        "    </tr>\n",
        "    <tr>\n",
        "      <th>3</th>\n",
        "      <td> 11/11/2014 0:00</td>\n",
        "      <td> 10:25:00</td>\n",
        "      <td> PM</td>\n",
        "      <td>         WADE</td>\n",
        "      <td> NC</td>\n",
        "      <td> LIGHT</td>\n",
        "      <td> multiple hours and still</td>\n",
        "      <td> Since I made my first report on the 7th I have...</td>\n",
        "      <td> 11/14/2014</td>\n",
        "      <td> True</td>\n",
        "      <td>1900-01-01 22:25:00</td>\n",
        "      <td> 11/11/2014</td>\n",
        "      <td> 0:00</td>\n",
        "      <td> 11</td>\n",
        "      <td> 11</td>\n",
        "      <td> 2014</td>\n",
        "    </tr>\n",
        "    <tr>\n",
        "      <th>4</th>\n",
        "      <td> 11/11/2014 0:00</td>\n",
        "      <td>  5:15:00</td>\n",
        "      <td> PM</td>\n",
        "      <td>      NEWPORT</td>\n",
        "      <td> VT</td>\n",
        "      <td> LIGHT</td>\n",
        "      <td>               15 seconds</td>\n",
        "      <td>                       Single orange silent light.</td>\n",
        "      <td> 11/14/2014</td>\n",
        "      <td> True</td>\n",
        "      <td>1900-01-01 17:15:00</td>\n",
        "      <td> 11/11/2014</td>\n",
        "      <td> 0:00</td>\n",
        "      <td> 11</td>\n",
        "      <td> 11</td>\n",
        "      <td> 2014</td>\n",
        "    </tr>\n",
        "  </tbody>\n",
        "</table>\n",
        "</div>"
       ],
       "metadata": {},
       "output_type": "pyout",
       "prompt_number": 201,
       "text": [
        "              Date      Time Period          City State  Shape  \\\n",
        "0  11/14/2014 0:00   1:05:00     AM        ROGERS    AR  LIGHT   \n",
        "1  11/12/2014 0:00   6:30:00     PM  PHILADELPHIA    PA  LIGHT   \n",
        "2  11/12/2014 0:00   5:00:00     PM  CENTRAL CITY    NE  LIGHT   \n",
        "3  11/11/2014 0:00  10:25:00     PM          WADE    NC  LIGHT   \n",
        "4  11/11/2014 0:00   5:15:00     PM       NEWPORT    VT  LIGHT   \n",
        "\n",
        "                   Duration  \\\n",
        "0                 5 seconds   \n",
        "1                20 minutes   \n",
        "2                15 minutes   \n",
        "3  multiple hours and still   \n",
        "4                15 seconds   \n",
        "\n",
        "                                             Summary      Posted   USA  \\\n",
        "0  A light (kind of green/blue) moving across the...  11/14/2014  True   \n",
        "1  Lights flickering in the North Western Sky ove...  11/14/2014  True   \n",
        "2      Light orbs seen in daylight with sun setting.  11/14/2014  True   \n",
        "3  Since I made my first report on the 7th I have...  11/14/2014  True   \n",
        "4                        Single orange silent light.  11/14/2014  True   \n",
        "\n",
        "           Time Hours Sighting Date GTime   0   1     2  \n",
        "0 1900-01-01 01:05:00    11/14/2014  0:00  11  14  2014  \n",
        "1 1900-01-01 18:30:00    11/12/2014  0:00  11  12  2014  \n",
        "2 1900-01-01 17:00:00    11/12/2014  0:00  11  12  2014  \n",
        "3 1900-01-01 22:25:00    11/11/2014  0:00  11  11  2014  \n",
        "4 1900-01-01 17:15:00    11/11/2014  0:00  11  11  2014  "
       ]
      }
     ],
     "prompt_number": 201
    },
    {
     "cell_type": "code",
     "collapsed": false,
     "input": [
      "monthly_sightings = split_datetime\n",
      "monthly_sightings.rename(columns={0:'Month'}, inplace=True)\n",
      "monthly_sightings.head()"
     ],
     "language": "python",
     "metadata": {},
     "outputs": [
      {
       "html": [
        "<div style=\"max-height:1000px;max-width:1500px;overflow:auto;\">\n",
        "<table border=\"1\" class=\"dataframe\">\n",
        "  <thead>\n",
        "    <tr style=\"text-align: right;\">\n",
        "      <th></th>\n",
        "      <th>Date</th>\n",
        "      <th>Time</th>\n",
        "      <th>Period</th>\n",
        "      <th>City</th>\n",
        "      <th>State</th>\n",
        "      <th>Shape</th>\n",
        "      <th>Duration</th>\n",
        "      <th>Summary</th>\n",
        "      <th>Posted</th>\n",
        "      <th>USA</th>\n",
        "      <th>Time Hours</th>\n",
        "      <th>Sighting Date</th>\n",
        "      <th>GTime</th>\n",
        "      <th>Month</th>\n",
        "      <th>1</th>\n",
        "      <th>2</th>\n",
        "    </tr>\n",
        "  </thead>\n",
        "  <tbody>\n",
        "    <tr>\n",
        "      <th>0</th>\n",
        "      <td> 11/14/2014 0:00</td>\n",
        "      <td>  1:05:00</td>\n",
        "      <td> AM</td>\n",
        "      <td>       ROGERS</td>\n",
        "      <td> AR</td>\n",
        "      <td> LIGHT</td>\n",
        "      <td>                5 seconds</td>\n",
        "      <td> A light (kind of green/blue) moving across the...</td>\n",
        "      <td> 11/14/2014</td>\n",
        "      <td> True</td>\n",
        "      <td>1900-01-01 01:05:00</td>\n",
        "      <td> 11/14/2014</td>\n",
        "      <td> 0:00</td>\n",
        "      <td> 11</td>\n",
        "      <td> 14</td>\n",
        "      <td> 2014</td>\n",
        "    </tr>\n",
        "    <tr>\n",
        "      <th>1</th>\n",
        "      <td> 11/12/2014 0:00</td>\n",
        "      <td>  6:30:00</td>\n",
        "      <td> PM</td>\n",
        "      <td> PHILADELPHIA</td>\n",
        "      <td> PA</td>\n",
        "      <td> LIGHT</td>\n",
        "      <td>               20 minutes</td>\n",
        "      <td> Lights flickering in the North Western Sky ove...</td>\n",
        "      <td> 11/14/2014</td>\n",
        "      <td> True</td>\n",
        "      <td>1900-01-01 18:30:00</td>\n",
        "      <td> 11/12/2014</td>\n",
        "      <td> 0:00</td>\n",
        "      <td> 11</td>\n",
        "      <td> 12</td>\n",
        "      <td> 2014</td>\n",
        "    </tr>\n",
        "    <tr>\n",
        "      <th>2</th>\n",
        "      <td> 11/12/2014 0:00</td>\n",
        "      <td>  5:00:00</td>\n",
        "      <td> PM</td>\n",
        "      <td> CENTRAL CITY</td>\n",
        "      <td> NE</td>\n",
        "      <td> LIGHT</td>\n",
        "      <td>               15 minutes</td>\n",
        "      <td>     Light orbs seen in daylight with sun setting.</td>\n",
        "      <td> 11/14/2014</td>\n",
        "      <td> True</td>\n",
        "      <td>1900-01-01 17:00:00</td>\n",
        "      <td> 11/12/2014</td>\n",
        "      <td> 0:00</td>\n",
        "      <td> 11</td>\n",
        "      <td> 12</td>\n",
        "      <td> 2014</td>\n",
        "    </tr>\n",
        "    <tr>\n",
        "      <th>3</th>\n",
        "      <td> 11/11/2014 0:00</td>\n",
        "      <td> 10:25:00</td>\n",
        "      <td> PM</td>\n",
        "      <td>         WADE</td>\n",
        "      <td> NC</td>\n",
        "      <td> LIGHT</td>\n",
        "      <td> multiple hours and still</td>\n",
        "      <td> Since I made my first report on the 7th I have...</td>\n",
        "      <td> 11/14/2014</td>\n",
        "      <td> True</td>\n",
        "      <td>1900-01-01 22:25:00</td>\n",
        "      <td> 11/11/2014</td>\n",
        "      <td> 0:00</td>\n",
        "      <td> 11</td>\n",
        "      <td> 11</td>\n",
        "      <td> 2014</td>\n",
        "    </tr>\n",
        "    <tr>\n",
        "      <th>4</th>\n",
        "      <td> 11/11/2014 0:00</td>\n",
        "      <td>  5:15:00</td>\n",
        "      <td> PM</td>\n",
        "      <td>      NEWPORT</td>\n",
        "      <td> VT</td>\n",
        "      <td> LIGHT</td>\n",
        "      <td>               15 seconds</td>\n",
        "      <td>                       Single orange silent light.</td>\n",
        "      <td> 11/14/2014</td>\n",
        "      <td> True</td>\n",
        "      <td>1900-01-01 17:15:00</td>\n",
        "      <td> 11/11/2014</td>\n",
        "      <td> 0:00</td>\n",
        "      <td> 11</td>\n",
        "      <td> 11</td>\n",
        "      <td> 2014</td>\n",
        "    </tr>\n",
        "  </tbody>\n",
        "</table>\n",
        "</div>"
       ],
       "metadata": {},
       "output_type": "pyout",
       "prompt_number": 202,
       "text": [
        "              Date      Time Period          City State  Shape  \\\n",
        "0  11/14/2014 0:00   1:05:00     AM        ROGERS    AR  LIGHT   \n",
        "1  11/12/2014 0:00   6:30:00     PM  PHILADELPHIA    PA  LIGHT   \n",
        "2  11/12/2014 0:00   5:00:00     PM  CENTRAL CITY    NE  LIGHT   \n",
        "3  11/11/2014 0:00  10:25:00     PM          WADE    NC  LIGHT   \n",
        "4  11/11/2014 0:00   5:15:00     PM       NEWPORT    VT  LIGHT   \n",
        "\n",
        "                   Duration  \\\n",
        "0                 5 seconds   \n",
        "1                20 minutes   \n",
        "2                15 minutes   \n",
        "3  multiple hours and still   \n",
        "4                15 seconds   \n",
        "\n",
        "                                             Summary      Posted   USA  \\\n",
        "0  A light (kind of green/blue) moving across the...  11/14/2014  True   \n",
        "1  Lights flickering in the North Western Sky ove...  11/14/2014  True   \n",
        "2      Light orbs seen in daylight with sun setting.  11/14/2014  True   \n",
        "3  Since I made my first report on the 7th I have...  11/14/2014  True   \n",
        "4                        Single orange silent light.  11/14/2014  True   \n",
        "\n",
        "           Time Hours Sighting Date GTime Month   1     2  \n",
        "0 1900-01-01 01:05:00    11/14/2014  0:00    11  14  2014  \n",
        "1 1900-01-01 18:30:00    11/12/2014  0:00    11  12  2014  \n",
        "2 1900-01-01 17:00:00    11/12/2014  0:00    11  12  2014  \n",
        "3 1900-01-01 22:25:00    11/11/2014  0:00    11  11  2014  \n",
        "4 1900-01-01 17:15:00    11/11/2014  0:00    11  11  2014  "
       ]
      }
     ],
     "prompt_number": 202
    },
    {
     "cell_type": "markdown",
     "metadata": {},
     "source": [
      "We will use the map below to map month numbers for their readable names. i.e. \"1\" will become \"Jan\""
     ]
    },
    {
     "cell_type": "code",
     "collapsed": false,
     "input": [
      "month_map = pd.Series({'1' : 'Jan', '2': 'Feb', '3': 'Mar',\n",
      "                    '4' : 'Apr', '5': 'May', '6': 'Jun',\n",
      "                    '7' : 'Jul', '8': 'Aug', '9': 'Sep',\n",
      "                    '10': 'Oct', '11': 'Nov', '12': 'Dec',\n",
      "                    })"
     ],
     "language": "python",
     "metadata": {},
     "outputs": [],
     "prompt_number": 203
    },
    {
     "cell_type": "code",
     "collapsed": false,
     "input": [
      "monthly_sightings.Month = monthly_sightings.Month.map(month_map)"
     ],
     "language": "python",
     "metadata": {},
     "outputs": [],
     "prompt_number": 204
    },
    {
     "cell_type": "code",
     "collapsed": false,
     "input": [
      "monthly = monthly_sightings.groupby(monthly_sightings['Month'])\n",
      "monthly = pd.Series(monthly.Posted.count(), name='Monthly Sightings')"
     ],
     "language": "python",
     "metadata": {},
     "outputs": [],
     "prompt_number": 205
    },
    {
     "cell_type": "markdown",
     "metadata": {},
     "source": [
      "Writing the count of sightings reported in each month to Monthly_sightings dataset. "
     ]
    },
    {
     "cell_type": "code",
     "collapsed": false,
     "input": [
      "monthly.to_csv(r'Clean_data/Monthly_sightings')\n",
      "monthly.head()"
     ],
     "language": "python",
     "metadata": {},
     "outputs": [
      {
       "metadata": {},
       "output_type": "pyout",
       "prompt_number": 206,
       "text": [
        "Month\n",
        "Apr      5009\n",
        "Aug      8508\n",
        "Dec      5208\n",
        "Feb      4234\n",
        "Jan      5157\n",
        "Name: Monthly Sightings, dtype: int64"
       ]
      }
     ],
     "prompt_number": 206
    },
    {
     "cell_type": "heading",
     "level": 2,
     "metadata": {},
     "source": [
      "Sightings by Year"
     ]
    },
    {
     "cell_type": "code",
     "collapsed": false,
     "input": [
      "yearly_sightings = monthly_sightings\n",
      "yearly_sightings.rename(columns={2:'Year'}, inplace=True)\n",
      "yearly_sightings.head()"
     ],
     "language": "python",
     "metadata": {},
     "outputs": [
      {
       "html": [
        "<div style=\"max-height:1000px;max-width:1500px;overflow:auto;\">\n",
        "<table border=\"1\" class=\"dataframe\">\n",
        "  <thead>\n",
        "    <tr style=\"text-align: right;\">\n",
        "      <th></th>\n",
        "      <th>Date</th>\n",
        "      <th>Time</th>\n",
        "      <th>Period</th>\n",
        "      <th>City</th>\n",
        "      <th>State</th>\n",
        "      <th>Shape</th>\n",
        "      <th>Duration</th>\n",
        "      <th>Summary</th>\n",
        "      <th>Posted</th>\n",
        "      <th>USA</th>\n",
        "      <th>Time Hours</th>\n",
        "      <th>Sighting Date</th>\n",
        "      <th>GTime</th>\n",
        "      <th>Month</th>\n",
        "      <th>1</th>\n",
        "      <th>Year</th>\n",
        "    </tr>\n",
        "  </thead>\n",
        "  <tbody>\n",
        "    <tr>\n",
        "      <th>0</th>\n",
        "      <td> 11/14/2014 0:00</td>\n",
        "      <td>  1:05:00</td>\n",
        "      <td> AM</td>\n",
        "      <td>       ROGERS</td>\n",
        "      <td> AR</td>\n",
        "      <td> LIGHT</td>\n",
        "      <td>                5 seconds</td>\n",
        "      <td> A light (kind of green/blue) moving across the...</td>\n",
        "      <td> 11/14/2014</td>\n",
        "      <td> True</td>\n",
        "      <td>1900-01-01 01:05:00</td>\n",
        "      <td> 11/14/2014</td>\n",
        "      <td> 0:00</td>\n",
        "      <td> Nov</td>\n",
        "      <td> 14</td>\n",
        "      <td> 2014</td>\n",
        "    </tr>\n",
        "    <tr>\n",
        "      <th>1</th>\n",
        "      <td> 11/12/2014 0:00</td>\n",
        "      <td>  6:30:00</td>\n",
        "      <td> PM</td>\n",
        "      <td> PHILADELPHIA</td>\n",
        "      <td> PA</td>\n",
        "      <td> LIGHT</td>\n",
        "      <td>               20 minutes</td>\n",
        "      <td> Lights flickering in the North Western Sky ove...</td>\n",
        "      <td> 11/14/2014</td>\n",
        "      <td> True</td>\n",
        "      <td>1900-01-01 18:30:00</td>\n",
        "      <td> 11/12/2014</td>\n",
        "      <td> 0:00</td>\n",
        "      <td> Nov</td>\n",
        "      <td> 12</td>\n",
        "      <td> 2014</td>\n",
        "    </tr>\n",
        "    <tr>\n",
        "      <th>2</th>\n",
        "      <td> 11/12/2014 0:00</td>\n",
        "      <td>  5:00:00</td>\n",
        "      <td> PM</td>\n",
        "      <td> CENTRAL CITY</td>\n",
        "      <td> NE</td>\n",
        "      <td> LIGHT</td>\n",
        "      <td>               15 minutes</td>\n",
        "      <td>     Light orbs seen in daylight with sun setting.</td>\n",
        "      <td> 11/14/2014</td>\n",
        "      <td> True</td>\n",
        "      <td>1900-01-01 17:00:00</td>\n",
        "      <td> 11/12/2014</td>\n",
        "      <td> 0:00</td>\n",
        "      <td> Nov</td>\n",
        "      <td> 12</td>\n",
        "      <td> 2014</td>\n",
        "    </tr>\n",
        "    <tr>\n",
        "      <th>3</th>\n",
        "      <td> 11/11/2014 0:00</td>\n",
        "      <td> 10:25:00</td>\n",
        "      <td> PM</td>\n",
        "      <td>         WADE</td>\n",
        "      <td> NC</td>\n",
        "      <td> LIGHT</td>\n",
        "      <td> multiple hours and still</td>\n",
        "      <td> Since I made my first report on the 7th I have...</td>\n",
        "      <td> 11/14/2014</td>\n",
        "      <td> True</td>\n",
        "      <td>1900-01-01 22:25:00</td>\n",
        "      <td> 11/11/2014</td>\n",
        "      <td> 0:00</td>\n",
        "      <td> Nov</td>\n",
        "      <td> 11</td>\n",
        "      <td> 2014</td>\n",
        "    </tr>\n",
        "    <tr>\n",
        "      <th>4</th>\n",
        "      <td> 11/11/2014 0:00</td>\n",
        "      <td>  5:15:00</td>\n",
        "      <td> PM</td>\n",
        "      <td>      NEWPORT</td>\n",
        "      <td> VT</td>\n",
        "      <td> LIGHT</td>\n",
        "      <td>               15 seconds</td>\n",
        "      <td>                       Single orange silent light.</td>\n",
        "      <td> 11/14/2014</td>\n",
        "      <td> True</td>\n",
        "      <td>1900-01-01 17:15:00</td>\n",
        "      <td> 11/11/2014</td>\n",
        "      <td> 0:00</td>\n",
        "      <td> Nov</td>\n",
        "      <td> 11</td>\n",
        "      <td> 2014</td>\n",
        "    </tr>\n",
        "  </tbody>\n",
        "</table>\n",
        "</div>"
       ],
       "metadata": {},
       "output_type": "pyout",
       "prompt_number": 207,
       "text": [
        "              Date      Time Period          City State  Shape  \\\n",
        "0  11/14/2014 0:00   1:05:00     AM        ROGERS    AR  LIGHT   \n",
        "1  11/12/2014 0:00   6:30:00     PM  PHILADELPHIA    PA  LIGHT   \n",
        "2  11/12/2014 0:00   5:00:00     PM  CENTRAL CITY    NE  LIGHT   \n",
        "3  11/11/2014 0:00  10:25:00     PM          WADE    NC  LIGHT   \n",
        "4  11/11/2014 0:00   5:15:00     PM       NEWPORT    VT  LIGHT   \n",
        "\n",
        "                   Duration  \\\n",
        "0                 5 seconds   \n",
        "1                20 minutes   \n",
        "2                15 minutes   \n",
        "3  multiple hours and still   \n",
        "4                15 seconds   \n",
        "\n",
        "                                             Summary      Posted   USA  \\\n",
        "0  A light (kind of green/blue) moving across the...  11/14/2014  True   \n",
        "1  Lights flickering in the North Western Sky ove...  11/14/2014  True   \n",
        "2      Light orbs seen in daylight with sun setting.  11/14/2014  True   \n",
        "3  Since I made my first report on the 7th I have...  11/14/2014  True   \n",
        "4                        Single orange silent light.  11/14/2014  True   \n",
        "\n",
        "           Time Hours Sighting Date GTime Month   1  Year  \n",
        "0 1900-01-01 01:05:00    11/14/2014  0:00   Nov  14  2014  \n",
        "1 1900-01-01 18:30:00    11/12/2014  0:00   Nov  12  2014  \n",
        "2 1900-01-01 17:00:00    11/12/2014  0:00   Nov  12  2014  \n",
        "3 1900-01-01 22:25:00    11/11/2014  0:00   Nov  11  2014  \n",
        "4 1900-01-01 17:15:00    11/11/2014  0:00   Nov  11  2014  "
       ]
      }
     ],
     "prompt_number": 207
    },
    {
     "cell_type": "code",
     "collapsed": false,
     "input": [
      "yearly = yearly_sightings.groupby(yearly_sightings['Year'])\n",
      "yearly = pd.Series(yearly.Posted.count(), name='Yearly Sightings')\n",
      "yearly = yearly[:81]\n",
      "yearly.head()"
     ],
     "language": "python",
     "metadata": {},
     "outputs": [
      {
       "metadata": {},
       "output_type": "pyout",
       "prompt_number": 208,
       "text": [
        "Year\n",
        "1930    2\n",
        "1931    2\n",
        "1933    1\n",
        "1934    1\n",
        "1936    2\n",
        "Name: Yearly Sightings, dtype: int64"
       ]
      }
     ],
     "prompt_number": 208
    },
    {
     "cell_type": "code",
     "collapsed": false,
     "input": [
      "#should be 81\n",
      "yearly.count()"
     ],
     "language": "python",
     "metadata": {},
     "outputs": [
      {
       "metadata": {},
       "output_type": "pyout",
       "prompt_number": 209,
       "text": [
        "81"
       ]
      }
     ],
     "prompt_number": 209
    },
    {
     "cell_type": "code",
     "collapsed": false,
     "input": [
      "yearly.to_csv(r'Clean_data/Yearly_sightings', header=True)"
     ],
     "language": "python",
     "metadata": {},
     "outputs": [],
     "prompt_number": 210
    },
    {
     "cell_type": "code",
     "collapsed": false,
     "input": [],
     "language": "python",
     "metadata": {},
     "outputs": [],
     "prompt_number": 210
    }
   ],
   "metadata": {}
  }
 ]
}