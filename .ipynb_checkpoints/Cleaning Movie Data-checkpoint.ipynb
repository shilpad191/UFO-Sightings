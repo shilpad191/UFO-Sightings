{
 "metadata": {
  "kernelspec": {
   "codemirror_mode": {
    "name": "ipython",
    "version": 2
   },
   "display_name": "IPython (Python 2)",
   "language": "python",
   "name": "python2"
  },
  "name": "",
  "signature": "sha256:aaf6455bc7820b0ec9cf9bc4d3f6dd350592228f81e9ff645b41da3b774e993a"
 },
 "nbformat": 3,
 "nbformat_minor": 0,
 "worksheets": [
  {
   "cells": [
    {
     "cell_type": "heading",
     "level": 1,
     "metadata": {},
     "source": [
      "Movie Release Year Data"
     ]
    },
    {
     "cell_type": "code",
     "collapsed": false,
     "input": [
      "%matplotlib inline\n",
      "import math\n",
      "import matplotlib.pyplot as plt\n",
      "import numpy as np\n",
      "import pandas as pd\n",
      "import datetime\n",
      "import re"
     ],
     "language": "python",
     "metadata": {},
     "outputs": [],
     "prompt_number": 1
    },
    {
     "cell_type": "markdown",
     "metadata": {},
     "source": [
      "We begin by parsing the acquired file (from IMDB) that is separated by a pipe. We account for this by specifying the pipe as the separator. We also account for as many initial bad lines as possible by ignoring the error for them and later dropping them as bad data."
     ]
    },
    {
     "cell_type": "code",
     "collapsed": false,
     "input": [
      "movgenres = pd.read_csv(r'Raw_data/movie genres.txt', sep = '|', warn_bad_lines=False, error_bad_lines = False)"
     ],
     "language": "python",
     "metadata": {},
     "outputs": [],
     "prompt_number": 2
    },
    {
     "cell_type": "markdown",
     "metadata": {},
     "source": [
      "We now account for any Nans by replacing them with values that make sense given the columns they are found under."
     ]
    },
    {
     "cell_type": "code",
     "collapsed": false,
     "input": [
      "movgenres['Title'].fillna(value='---', inplace=True)\n",
      "movgenres['Year'].fillna(value='(0000)', inplace=True)\n",
      "movgenres['Genre'].fillna(value='NONE', inplace=True)"
     ],
     "language": "python",
     "metadata": {},
     "outputs": [],
     "prompt_number": 3
    },
    {
     "cell_type": "code",
     "collapsed": false,
     "input": [
      "def whispace(x):\n",
      "    \"\"\" The following function will take a variable and \n",
      "    return the stripped version of it for data cleanliness.\n",
      "    \n",
      "    Inputs:\n",
      "    x = string to be stripped\n",
      "    \n",
      "    Outputs:\n",
      "    val = the stripped string\n",
      "    \n",
      "    Exceptions:\n",
      "    if a bad type is passed in, we will return the intial \n",
      "    value unchanged and print is to the console for analysis.\"\"\"\n",
      "    try:\n",
      "        val = x.strip()\n",
      "        return val\n",
      "    except AttributeError:\n",
      "        print x\n",
      "        return x"
     ],
     "language": "python",
     "metadata": {},
     "outputs": [],
     "prompt_number": 4
    },
    {
     "cell_type": "markdown",
     "metadata": {},
     "source": [
      "We now apply this to both the Genre and Year column for normalization."
     ]
    },
    {
     "cell_type": "code",
     "collapsed": false,
     "input": [
      "movgenres['Genre'] = movgenres['Genre'].apply(lambda x: whispace(x))\n",
      "movgenres['Year'] = movgenres['Year'].apply(lambda x: whispace(x))"
     ],
     "language": "python",
     "metadata": {},
     "outputs": [],
     "prompt_number": 5
    },
    {
     "cell_type": "markdown",
     "metadata": {},
     "source": [
      "Now we perform a replacement to get rid of any year entries that are (????). These seemed to have been entered where the movie was known to have been released, but the exact year of release is unknown. This will allow us to easily filter for these bad values and later remove them. We replace with the value (1000) as we are sure that no movie came out that year and can easily distinguish this bad data."
     ]
    },
    {
     "cell_type": "code",
     "collapsed": false,
     "input": [
      "movgenres['Cleanyear'] = movgenres['Year'].replace('(????)', '(1000)')"
     ],
     "language": "python",
     "metadata": {},
     "outputs": [],
     "prompt_number": 6
    },
    {
     "cell_type": "markdown",
     "metadata": {},
     "source": [
      "We now add a column called scifi that we use to distinguish scifi genres movies from everything else."
     ]
    },
    {
     "cell_type": "code",
     "collapsed": false,
     "input": [
      "movgenres['Scifi'] = np.where(movgenres['Genre'].apply((lambda x: x == 'Sci-Fi')), True, False)"
     ],
     "language": "python",
     "metadata": {},
     "outputs": [],
     "prompt_number": 7
    },
    {
     "cell_type": "code",
     "collapsed": false,
     "input": [
      "movgenres.Scifi.value_counts()"
     ],
     "language": "python",
     "metadata": {},
     "outputs": [
      {
       "metadata": {},
       "output_type": "pyout",
       "prompt_number": 8,
       "text": [
        "False    1473698\n",
        "True       20607\n",
        "dtype: int64"
       ]
      }
     ],
     "prompt_number": 8
    },
    {
     "cell_type": "code",
     "collapsed": false,
     "input": [
      "movgenres.count()"
     ],
     "language": "python",
     "metadata": {},
     "outputs": [
      {
       "metadata": {},
       "output_type": "pyout",
       "prompt_number": 9,
       "text": [
        "Title        1494305\n",
        "Year         1494305\n",
        "Genre        1494305\n",
        "Cleanyear    1494305\n",
        "Scifi        1494305\n",
        "dtype: int64"
       ]
      }
     ],
     "prompt_number": 9
    },
    {
     "cell_type": "code",
     "collapsed": false,
     "input": [
      "movgenres.head()"
     ],
     "language": "python",
     "metadata": {},
     "outputs": [
      {
       "html": [
        "<div style=\"max-height:1000px;max-width:1500px;overflow:auto;\">\n",
        "<table border=\"1\" class=\"dataframe\">\n",
        "  <thead>\n",
        "    <tr style=\"text-align: right;\">\n",
        "      <th></th>\n",
        "      <th>Title</th>\n",
        "      <th>Year</th>\n",
        "      <th>Genre</th>\n",
        "      <th>Cleanyear</th>\n",
        "      <th>Scifi</th>\n",
        "    </tr>\n",
        "  </thead>\n",
        "  <tbody>\n",
        "    <tr>\n",
        "      <th>0</th>\n",
        "      <td>      !Next? </td>\n",
        "      <td> (1994)</td>\n",
        "      <td> Documentary</td>\n",
        "      <td> (1994)</td>\n",
        "      <td> False</td>\n",
        "    </tr>\n",
        "    <tr>\n",
        "      <th>1</th>\n",
        "      <td>   #1 Single </td>\n",
        "      <td> (2006)</td>\n",
        "      <td>  Reality-TV</td>\n",
        "      <td> (2006)</td>\n",
        "      <td> False</td>\n",
        "    </tr>\n",
        "    <tr>\n",
        "      <th>2</th>\n",
        "      <td>     #30Nods </td>\n",
        "      <td> (2014)</td>\n",
        "      <td>       Drama</td>\n",
        "      <td> (2014)</td>\n",
        "      <td> False</td>\n",
        "    </tr>\n",
        "    <tr>\n",
        "      <th>3</th>\n",
        "      <td> #7DaysLater </td>\n",
        "      <td> (2013)</td>\n",
        "      <td>      Comedy</td>\n",
        "      <td> (2013)</td>\n",
        "      <td> False</td>\n",
        "    </tr>\n",
        "    <tr>\n",
        "      <th>4</th>\n",
        "      <td>      #ATown </td>\n",
        "      <td> (2014)</td>\n",
        "      <td>      Comedy</td>\n",
        "      <td> (2014)</td>\n",
        "      <td> False</td>\n",
        "    </tr>\n",
        "  </tbody>\n",
        "</table>\n",
        "</div>"
       ],
       "metadata": {},
       "output_type": "pyout",
       "prompt_number": 10,
       "text": [
        "          Title    Year        Genre Cleanyear  Scifi\n",
        "0       !Next?   (1994)  Documentary    (1994)  False\n",
        "1    #1 Single   (2006)   Reality-TV    (2006)  False\n",
        "2      #30Nods   (2014)        Drama    (2014)  False\n",
        "3  #7DaysLater   (2013)       Comedy    (2013)  False\n",
        "4       #ATown   (2014)       Comedy    (2014)  False"
       ]
      }
     ],
     "prompt_number": 10
    },
    {
     "cell_type": "markdown",
     "metadata": {},
     "source": [
      "This big mammajamma, separateyear, takes care of some of the different ways the year was represented for movies release year."
     ]
    },
    {
     "cell_type": "code",
     "collapsed": false,
     "input": [
      "def separateyear(x):\n",
      "    \"\"\" The following function will take a datetime variable and \n",
      "    return the year. The different tries are there to adapt for \n",
      "    the various ways in which the year was filled out in this data set.\n",
      "    \n",
      "    Inputs:\n",
      "    x = datetime variable to have its year extracted\n",
      "    \n",
      "    Outputs:\n",
      "    tryx.year = the year of that corresponding datetime\n",
      "    \n",
      "    Exceptions:\n",
      "    If a bad datetime or wrong type is passed in, we will return the  \n",
      "    value 1000 for easy filtering in later steps.\"\"\"\n",
      "    \n",
      "    try:\n",
      "        try1 = datetime.datetime.strptime(x, '(%Y)')\n",
      "        return try1.year\n",
      "    except ValueError:\n",
      "        try:\n",
      "            try2 = datetime.datetime.strptime(x, '(%Y/I)')\n",
      "            return try2.year\n",
      "        except ValueError:\n",
      "            try:\n",
      "                try3 = datetime.datetime.strptime(x, '(%Y/II)')\n",
      "                return try3.year\n",
      "            except ValueError:\n",
      "                try:\n",
      "                    try4 = datetime.datetime.strptime(x, '(%Y/III)')\n",
      "                    return try4.year\n",
      "                except ValueError:\n",
      "                    try:\n",
      "                        try4 = datetime.datetime.strptime(x, '(%Y/IV)')\n",
      "                        return try4.year\n",
      "                    except ValueError:\n",
      "                        try:\n",
      "                            try5 = datetime.datetime.strptime(x, '(%Y/V)')\n",
      "                            return try5.year\n",
      "                        except ValueError:\n",
      "                            fail=1000\n",
      "                            return fail"
     ],
     "language": "python",
     "metadata": {},
     "outputs": [],
     "prompt_number": 11
    },
    {
     "cell_type": "markdown",
     "metadata": {},
     "source": [
      "We will now apply the above function to the Cleanyear column and produce just the year we want for analysis. <b>Please note this will take a few minutes to complete.<b>"
     ]
    },
    {
     "cell_type": "code",
     "collapsed": false,
     "input": [
      "movgenres['Year'] = movgenres['Cleanyear'].apply((lambda x: separateyear(x)));"
     ],
     "language": "python",
     "metadata": {},
     "outputs": [],
     "prompt_number": 12
    },
    {
     "cell_type": "markdown",
     "metadata": {},
     "source": [
      "We will now add a column called \"Correct\" in which we will filter for years that are after 1826, the year with the worlds first recorded photograph. Any year before can be deemed untrue adn not useful data."
     ]
    },
    {
     "cell_type": "code",
     "collapsed": false,
     "input": [
      "movgenres['Correct'] = np.where(movgenres['Year'].apply((lambda x: x > 1826)), True, False)"
     ],
     "language": "python",
     "metadata": {},
     "outputs": [],
     "prompt_number": 13
    },
    {
     "cell_type": "code",
     "collapsed": false,
     "input": [
      "movgenres.Correct.value_counts()"
     ],
     "language": "python",
     "metadata": {},
     "outputs": [
      {
       "metadata": {},
       "output_type": "pyout",
       "prompt_number": 14,
       "text": [
        "True     1458357\n",
        "False      35948\n",
        "dtype: int64"
       ]
      }
     ],
     "prompt_number": 14
    },
    {
     "cell_type": "markdown",
     "metadata": {},
     "source": [
      "Now we separate all good years into the realmove dataframe."
     ]
    },
    {
     "cell_type": "code",
     "collapsed": false,
     "input": [
      "realmov = movgenres[movgenres.Correct == True]\n",
      "realmov.Correct.value_counts()"
     ],
     "language": "python",
     "metadata": {},
     "outputs": [
      {
       "metadata": {},
       "output_type": "pyout",
       "prompt_number": 15,
       "text": [
        "True    1458357\n",
        "dtype: int64"
       ]
      }
     ],
     "prompt_number": 15
    },
    {
     "cell_type": "markdown",
     "metadata": {},
     "source": [
      "Then we take this good data and only pull the values where the genre is scifi."
     ]
    },
    {
     "cell_type": "code",
     "collapsed": false,
     "input": [
      "scifimov = realmov[realmov.Scifi == True]\n",
      "scifimov.count()"
     ],
     "language": "python",
     "metadata": {},
     "outputs": [
      {
       "metadata": {},
       "output_type": "pyout",
       "prompt_number": 16,
       "text": [
        "Title        19570\n",
        "Year         19570\n",
        "Genre        19570\n",
        "Cleanyear    19570\n",
        "Scifi        19570\n",
        "Correct      19570\n",
        "dtype: int64"
       ]
      }
     ],
     "prompt_number": 16
    },
    {
     "cell_type": "markdown",
     "metadata": {},
     "source": [
      "We will now drop the columns that were used to separate the data we needed to separate it from the rest."
     ]
    },
    {
     "cell_type": "code",
     "collapsed": false,
     "input": [
      "scifimov.drop('Scifi', axis=1, inplace=True);\n",
      "scifimov.drop('Cleanyear', axis=1, inplace=True);\n",
      "scifimov.drop('Correct', axis=1, inplace=True);"
     ],
     "language": "python",
     "metadata": {},
     "outputs": [
      {
       "output_type": "stream",
       "stream": "stderr",
       "text": [
        "-c:1: SettingWithCopyWarning: \n",
        "A value is trying to be set on a copy of a slice from a DataFrame\n",
        "\n",
        "See the the caveats in the documentation: http://pandas.pydata.org/pandas-docs/stable/indexing.html#indexing-view-versus-copy\n",
        "-c:2: SettingWithCopyWarning: \n",
        "A value is trying to be set on a copy of a slice from a DataFrame\n",
        "\n",
        "See the the caveats in the documentation: http://pandas.pydata.org/pandas-docs/stable/indexing.html#indexing-view-versus-copy\n",
        "-c:3: SettingWithCopyWarning: \n",
        "A value is trying to be set on a copy of a slice from a DataFrame\n",
        "\n",
        "See the the caveats in the documentation: http://pandas.pydata.org/pandas-docs/stable/indexing.html#indexing-view-versus-copy\n"
       ]
      }
     ],
     "prompt_number": 17
    },
    {
     "cell_type": "code",
     "collapsed": false,
     "input": [
      "scifimov.head()"
     ],
     "language": "python",
     "metadata": {},
     "outputs": [
      {
       "html": [
        "<div style=\"max-height:1000px;max-width:1500px;overflow:auto;\">\n",
        "<table border=\"1\" class=\"dataframe\">\n",
        "  <thead>\n",
        "    <tr style=\"text-align: right;\">\n",
        "      <th></th>\n",
        "      <th>Title</th>\n",
        "      <th>Year</th>\n",
        "      <th>Genre</th>\n",
        "    </tr>\n",
        "  </thead>\n",
        "  <tbody>\n",
        "    <tr>\n",
        "      <th>19 </th>\n",
        "      <td> #LawstinWoods </td>\n",
        "      <td> 2013</td>\n",
        "      <td> Sci-Fi</td>\n",
        "    </tr>\n",
        "    <tr>\n",
        "      <th>67 </th>\n",
        "      <td>            &amp;@ </td>\n",
        "      <td> 2010</td>\n",
        "      <td> Sci-Fi</td>\n",
        "    </tr>\n",
        "    <tr>\n",
        "      <th>99 </th>\n",
        "      <td>      'Way Out </td>\n",
        "      <td> 1961</td>\n",
        "      <td> Sci-Fi</td>\n",
        "    </tr>\n",
        "    <tr>\n",
        "      <th>148</th>\n",
        "      <td>  .hack//Roots </td>\n",
        "      <td> 2006</td>\n",
        "      <td> Sci-Fi</td>\n",
        "    </tr>\n",
        "    <tr>\n",
        "      <th>155</th>\n",
        "      <td>   .hack//SIGN </td>\n",
        "      <td> 2002</td>\n",
        "      <td> Sci-Fi</td>\n",
        "    </tr>\n",
        "  </tbody>\n",
        "</table>\n",
        "</div>"
       ],
       "metadata": {},
       "output_type": "pyout",
       "prompt_number": 18,
       "text": [
        "              Title  Year   Genre\n",
        "19   #LawstinWoods   2013  Sci-Fi\n",
        "67              &@   2010  Sci-Fi\n",
        "99        'Way Out   1961  Sci-Fi\n",
        "148   .hack//Roots   2006  Sci-Fi\n",
        "155    .hack//SIGN   2002  Sci-Fi"
       ]
      }
     ],
     "prompt_number": 18
    },
    {
     "cell_type": "markdown",
     "metadata": {},
     "source": [
      "We now group by year and save the count for each year to nummovs as this is the data we will be using for our analysis."
     ]
    },
    {
     "cell_type": "code",
     "collapsed": false,
     "input": [
      "numscifi = scifimov.groupby('Year')\n",
      "nummovs = numscifi.count()\n",
      "nummovs.drop('Genre', axis=1, inplace=True)"
     ],
     "language": "python",
     "metadata": {},
     "outputs": [],
     "prompt_number": 19
    },
    {
     "cell_type": "code",
     "collapsed": false,
     "input": [
      "nummovs.columns = ['Movies']\n",
      "nummovs.head()"
     ],
     "language": "python",
     "metadata": {},
     "outputs": [
      {
       "html": [
        "<div style=\"max-height:1000px;max-width:1500px;overflow:auto;\">\n",
        "<table border=\"1\" class=\"dataframe\">\n",
        "  <thead>\n",
        "    <tr style=\"text-align: right;\">\n",
        "      <th></th>\n",
        "      <th>Movies</th>\n",
        "    </tr>\n",
        "    <tr>\n",
        "      <th>Year</th>\n",
        "      <th></th>\n",
        "    </tr>\n",
        "  </thead>\n",
        "  <tbody>\n",
        "    <tr>\n",
        "      <th>1895</th>\n",
        "      <td> 1</td>\n",
        "    </tr>\n",
        "    <tr>\n",
        "      <th>1898</th>\n",
        "      <td> 1</td>\n",
        "    </tr>\n",
        "    <tr>\n",
        "      <th>1901</th>\n",
        "      <td> 1</td>\n",
        "    </tr>\n",
        "    <tr>\n",
        "      <th>1902</th>\n",
        "      <td> 1</td>\n",
        "    </tr>\n",
        "    <tr>\n",
        "      <th>1904</th>\n",
        "      <td> 1</td>\n",
        "    </tr>\n",
        "  </tbody>\n",
        "</table>\n",
        "</div>"
       ],
       "metadata": {},
       "output_type": "pyout",
       "prompt_number": 20,
       "text": [
        "      Movies\n",
        "Year        \n",
        "1895       1\n",
        "1898       1\n",
        "1901       1\n",
        "1902       1\n",
        "1904       1"
       ]
      }
     ],
     "prompt_number": 20
    },
    {
     "cell_type": "markdown",
     "metadata": {},
     "source": [
      "Now we save the cleaned SciFi Movie Data to a csv for later analysis needing number of Scifi movies per year."
     ]
    },
    {
     "cell_type": "code",
     "collapsed": false,
     "input": [
      "nummovs.to_csv(r'Clean_data\\Scifi_per_year', header=True)"
     ],
     "language": "python",
     "metadata": {},
     "outputs": [],
     "prompt_number": 21
    },
    {
     "cell_type": "heading",
     "level": 2,
     "metadata": {},
     "source": [
      "SciFi Movies vs Number of Sightings Data"
     ]
    },
    {
     "cell_type": "markdown",
     "metadata": {},
     "source": [
      "For this data set, we pull in the cleaned population per year data and join it within Scifi Movies per year for later analysis and graphing of this data."
     ]
    },
    {
     "cell_type": "code",
     "collapsed": false,
     "input": [
      "yearlypop = pd.read_csv(r'Clean_data/Yearly_sightings', index_col='Year')"
     ],
     "language": "python",
     "metadata": {},
     "outputs": [],
     "prompt_number": 23
    },
    {
     "cell_type": "code",
     "collapsed": false,
     "input": [
      "yearlypop.head()"
     ],
     "language": "python",
     "metadata": {},
     "outputs": [
      {
       "html": [
        "<div style=\"max-height:1000px;max-width:1500px;overflow:auto;\">\n",
        "<table border=\"1\" class=\"dataframe\">\n",
        "  <thead>\n",
        "    <tr style=\"text-align: right;\">\n",
        "      <th></th>\n",
        "      <th>Yearly Sightings</th>\n",
        "    </tr>\n",
        "    <tr>\n",
        "      <th>Year</th>\n",
        "      <th></th>\n",
        "    </tr>\n",
        "  </thead>\n",
        "  <tbody>\n",
        "    <tr>\n",
        "      <th>1930</th>\n",
        "      <td> 2</td>\n",
        "    </tr>\n",
        "    <tr>\n",
        "      <th>1931</th>\n",
        "      <td> 2</td>\n",
        "    </tr>\n",
        "    <tr>\n",
        "      <th>1933</th>\n",
        "      <td> 1</td>\n",
        "    </tr>\n",
        "    <tr>\n",
        "      <th>1934</th>\n",
        "      <td> 1</td>\n",
        "    </tr>\n",
        "    <tr>\n",
        "      <th>1936</th>\n",
        "      <td> 2</td>\n",
        "    </tr>\n",
        "  </tbody>\n",
        "</table>\n",
        "</div>"
       ],
       "metadata": {},
       "output_type": "pyout",
       "prompt_number": 24,
       "text": [
        "      Yearly Sightings\n",
        "Year                  \n",
        "1930                 2\n",
        "1931                 2\n",
        "1933                 1\n",
        "1934                 1\n",
        "1936                 2"
       ]
      }
     ],
     "prompt_number": 24
    },
    {
     "cell_type": "code",
     "collapsed": false,
     "input": [
      "mov_v_sightings = nummovs.join(yearlypop)"
     ],
     "language": "python",
     "metadata": {},
     "outputs": [],
     "prompt_number": 25
    },
    {
     "cell_type": "markdown",
     "metadata": {},
     "source": [
      "We dropna to account for all years where we only have one set of data but not the other."
     ]
    },
    {
     "cell_type": "code",
     "collapsed": false,
     "input": [
      "mov_v_sightings.dropna(inplace=True)"
     ],
     "language": "python",
     "metadata": {},
     "outputs": [],
     "prompt_number": 26
    },
    {
     "cell_type": "code",
     "collapsed": false,
     "input": [
      "mov_v_sightings.head()"
     ],
     "language": "python",
     "metadata": {},
     "outputs": [
      {
       "html": [
        "<div style=\"max-height:1000px;max-width:1500px;overflow:auto;\">\n",
        "<table border=\"1\" class=\"dataframe\">\n",
        "  <thead>\n",
        "    <tr style=\"text-align: right;\">\n",
        "      <th></th>\n",
        "      <th>Movies</th>\n",
        "      <th>Yearly Sightings</th>\n",
        "    </tr>\n",
        "    <tr>\n",
        "      <th>Year</th>\n",
        "      <th></th>\n",
        "      <th></th>\n",
        "    </tr>\n",
        "  </thead>\n",
        "  <tbody>\n",
        "    <tr>\n",
        "      <th>1930</th>\n",
        "      <td>  4</td>\n",
        "      <td> 2</td>\n",
        "    </tr>\n",
        "    <tr>\n",
        "      <th>1931</th>\n",
        "      <td>  5</td>\n",
        "      <td> 2</td>\n",
        "    </tr>\n",
        "    <tr>\n",
        "      <th>1933</th>\n",
        "      <td> 13</td>\n",
        "      <td> 1</td>\n",
        "    </tr>\n",
        "    <tr>\n",
        "      <th>1934</th>\n",
        "      <td>  8</td>\n",
        "      <td> 1</td>\n",
        "    </tr>\n",
        "    <tr>\n",
        "      <th>1936</th>\n",
        "      <td> 13</td>\n",
        "      <td> 2</td>\n",
        "    </tr>\n",
        "  </tbody>\n",
        "</table>\n",
        "</div>"
       ],
       "metadata": {},
       "output_type": "pyout",
       "prompt_number": 27,
       "text": [
        "      Movies  Yearly Sightings\n",
        "Year                          \n",
        "1930       4                 2\n",
        "1931       5                 2\n",
        "1933      13                 1\n",
        "1934       8                 1\n",
        "1936      13                 2"
       ]
      }
     ],
     "prompt_number": 27
    },
    {
     "cell_type": "markdown",
     "metadata": {},
     "source": [
      "We now save this cleaned csv that contains Scifi Movie releases and Sightings per year to scifi_v_sightings for later analysis and graphing."
     ]
    },
    {
     "cell_type": "code",
     "collapsed": false,
     "input": [
      "mov_v_sightings.to_csv(r'clean_data\\Scifi_v_Sightings', header=True)"
     ],
     "language": "python",
     "metadata": {},
     "outputs": [],
     "prompt_number": 28
    },
    {
     "cell_type": "code",
     "collapsed": false,
     "input": [],
     "language": "python",
     "metadata": {},
     "outputs": []
    }
   ],
   "metadata": {}
  }
 ]
}