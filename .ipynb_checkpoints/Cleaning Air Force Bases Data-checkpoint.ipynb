{
 "metadata": {
  "kernelspec": {
   "codemirror_mode": {
    "name": "ipython",
    "version": 2
   },
   "display_name": "IPython (Python 2)",
   "language": "python",
   "name": "python2"
  },
  "name": "",
  "signature": "sha256:e48cfa54fa8065b77430ba88892551fc48df8d21c7671a7b1aaa60e3fc1dbae6"
 },
 "nbformat": 3,
 "nbformat_minor": 0,
 "worksheets": [
  {
   "cells": [
    {
     "cell_type": "heading",
     "level": 1,
     "metadata": {},
     "source": [
      "Air Force Base Location Data"
     ]
    },
    {
     "cell_type": "code",
     "collapsed": false,
     "input": [
      "import matplotlib.pyplot as plt\n",
      "import matplotlib\n",
      "import numpy as np\n",
      "import pandas as pd"
     ],
     "language": "python",
     "metadata": {},
     "outputs": [],
     "prompt_number": 1
    },
    {
     "cell_type": "markdown",
     "metadata": {},
     "source": [
      "This data contains the coordinates of Air Force bases within the United States as well as the state they can be found in. We will be using the count per state to fill our heatmap and get an idea of where the highest number of bases are found. We start by importing the csv file with the column names \"Lat\", \"Long\", \"Encode\", and \"State\". We are only truly interested in State for this analysis."
     ]
    },
    {
     "cell_type": "code",
     "collapsed": false,
     "input": [
      "milbases = pd.read_csv(r'Raw_data/USAF Bases.csv', names=['Lat', 'Long', 'Encode', 'State'])"
     ],
     "language": "python",
     "metadata": {},
     "outputs": [],
     "prompt_number": 2
    },
    {
     "cell_type": "code",
     "collapsed": false,
     "input": [
      "milbases.head()"
     ],
     "language": "python",
     "metadata": {},
     "outputs": [
      {
       "html": [
        "<div style=\"max-height:1000px;max-width:1500px;overflow:auto;\">\n",
        "<table border=\"1\" class=\"dataframe\">\n",
        "  <thead>\n",
        "    <tr style=\"text-align: right;\">\n",
        "      <th></th>\n",
        "      <th>Lat</th>\n",
        "      <th>Long</th>\n",
        "      <th>Encode</th>\n",
        "      <th>State</th>\n",
        "    </tr>\n",
        "  </thead>\n",
        "  <tbody>\n",
        "    <tr>\n",
        "      <th>0</th>\n",
        "      <td> -99.292870</td>\n",
        "      <td> 34.652240</td>\n",
        "      <td>     Altus AFB</td>\n",
        "      <td> OK</td>\n",
        "    </tr>\n",
        "    <tr>\n",
        "      <th>1</th>\n",
        "      <td> -76.893280</td>\n",
        "      <td> 38.812710</td>\n",
        "      <td>   Andrews AFB</td>\n",
        "      <td> MD</td>\n",
        "    </tr>\n",
        "    <tr>\n",
        "      <th>2</th>\n",
        "      <td> -86.214770</td>\n",
        "      <td> 35.357790</td>\n",
        "      <td>    Arnold AFB</td>\n",
        "      <td> TN</td>\n",
        "    </tr>\n",
        "    <tr>\n",
        "      <th>3</th>\n",
        "      <td> -93.691072</td>\n",
        "      <td> 32.498075</td>\n",
        "      <td> Barksdale AFB</td>\n",
        "      <td> LA</td>\n",
        "    </tr>\n",
        "    <tr>\n",
        "      <th>4</th>\n",
        "      <td>-121.425293</td>\n",
        "      <td> 39.081905</td>\n",
        "      <td>     Beale AFB</td>\n",
        "      <td> CA</td>\n",
        "    </tr>\n",
        "  </tbody>\n",
        "</table>\n",
        "</div>"
       ],
       "metadata": {},
       "output_type": "pyout",
       "prompt_number": 3,
       "text": [
        "          Lat       Long         Encode State\n",
        "0  -99.292870  34.652240      Altus AFB    OK\n",
        "1  -76.893280  38.812710    Andrews AFB    MD\n",
        "2  -86.214770  35.357790     Arnold AFB    TN\n",
        "3  -93.691072  32.498075  Barksdale AFB    LA\n",
        "4 -121.425293  39.081905      Beale AFB    CA"
       ]
      }
     ],
     "prompt_number": 3
    },
    {
     "cell_type": "markdown",
     "metadata": {},
     "source": [
      "We now group the data by state and perform the count so we get the number of bases per state."
     ]
    },
    {
     "cell_type": "code",
     "collapsed": false,
     "input": [
      "afbasestemp = milbases.groupby('State')\n",
      "afbasestemp.State.count().head()"
     ],
     "language": "python",
     "metadata": {},
     "outputs": [
      {
       "metadata": {},
       "output_type": "pyout",
       "prompt_number": 4,
       "text": [
        "State\n",
        "AK       2\n",
        "AL       1\n",
        "AR       2\n",
        "AZ       1\n",
        "CA       5\n",
        "Name: State, dtype: int64"
       ]
      }
     ],
     "prompt_number": 4
    },
    {
     "cell_type": "markdown",
     "metadata": {},
     "source": [
      "We now save the count to a pandas series and then to a csv file so that we can pull it later for mapping via folium."
     ]
    },
    {
     "cell_type": "code",
     "collapsed": false,
     "input": [
      "afbases = pd.Series(afbasestemp.State.count())\n",
      "afbases.to_csv(r'Clean_data\\AFbases_per_state')"
     ],
     "language": "python",
     "metadata": {},
     "outputs": [],
     "prompt_number": 5
    },
    {
     "cell_type": "code",
     "collapsed": false,
     "input": [],
     "language": "python",
     "metadata": {},
     "outputs": [],
     "prompt_number": 5
    }
   ],
   "metadata": {}
  }
 ]
}