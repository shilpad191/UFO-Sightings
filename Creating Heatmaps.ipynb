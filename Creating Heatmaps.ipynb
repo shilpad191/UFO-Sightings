{
 "metadata": {
  "kernelspec": {
   "codemirror_mode": {
    "name": "ipython",
    "version": 2
   },
   "display_name": "IPython (Python 2)",
   "language": "python",
   "name": "python2"
  },
  "name": "",
  "signature": "sha256:666b3037cd65c47dcdaad09640c75e340749532f6589a6201c160839dfb535ff"
 },
 "nbformat": 3,
 "nbformat_minor": 0,
 "worksheets": [
  {
   "cells": [
    {
     "cell_type": "heading",
     "level": 1,
     "metadata": {},
     "source": [
      "Challenge Area - Heatmaps with Folium"
     ]
    },
    {
     "cell_type": "code",
     "collapsed": false,
     "input": [
      "%matplotlib inline\n",
      "import matplotlib.pyplot as plt\n",
      "import matplotlib\n",
      "import numpy as np\n",
      "import pandas as pd\n",
      "import folium\n",
      "from IPython.display import HTML"
     ],
     "language": "python",
     "metadata": {},
     "outputs": [],
     "prompt_number": 21
    },
    {
     "cell_type": "markdown",
     "metadata": {},
     "source": [
      "Since the main dataset we had to work with contained the number of sightings by state, we decided it would be interested to plot the information in a heat map to get a more visual understanding of any relationships between these sightings and other sets of data. The first set of data we are working with here is the number of air forces by state. Please note that the explanation of the outputs can be found in the \"Story book\" notebook, found here:\n",
      "* [Story book.ipynb](Story book.ipynb)\n"
     ]
    },
    {
     "cell_type": "heading",
     "level": 2,
     "metadata": {},
     "source": [
      "Air Force Bases by State"
     ]
    },
    {
     "cell_type": "markdown",
     "metadata": {},
     "source": [
      "We begin by saving the shape file of the united states to the variable jsonshape. We will use this same value throughout this notebook as all data sets wil use it for mapping. the variable base_file contains the path to the clean Air force bases csv."
     ]
    },
    {
     "cell_type": "code",
     "collapsed": false,
     "input": [
      "jsonshape = r'Shape_files/stateshape2.json'\n",
      "base_file = r'Clean_data/AFbases_per_state'"
     ],
     "language": "python",
     "metadata": {},
     "outputs": [],
     "prompt_number": 22
    },
    {
     "cell_type": "markdown",
     "metadata": {},
     "source": [
      "We will now import the csv with column headers named \"State\" and \"Bases\". \"Bases\" is the number of AF bases within that state."
     ]
    },
    {
     "cell_type": "code",
     "collapsed": false,
     "input": [
      "base_data = pd.read_csv(base_file, names = ['State', 'Bases'])"
     ],
     "language": "python",
     "metadata": {},
     "outputs": [],
     "prompt_number": 23
    },
    {
     "cell_type": "code",
     "collapsed": false,
     "input": [
      "base_data.head()"
     ],
     "language": "python",
     "metadata": {},
     "outputs": [
      {
       "html": [
        "<div style=\"max-height:1000px;max-width:1500px;overflow:auto;\">\n",
        "<table border=\"1\" class=\"dataframe\">\n",
        "  <thead>\n",
        "    <tr style=\"text-align: right;\">\n",
        "      <th></th>\n",
        "      <th>State</th>\n",
        "      <th>Bases</th>\n",
        "    </tr>\n",
        "  </thead>\n",
        "  <tbody>\n",
        "    <tr>\n",
        "      <th>0</th>\n",
        "      <td> AK</td>\n",
        "      <td> 2</td>\n",
        "    </tr>\n",
        "    <tr>\n",
        "      <th>1</th>\n",
        "      <td> AL</td>\n",
        "      <td> 1</td>\n",
        "    </tr>\n",
        "    <tr>\n",
        "      <th>2</th>\n",
        "      <td> AR</td>\n",
        "      <td> 2</td>\n",
        "    </tr>\n",
        "    <tr>\n",
        "      <th>3</th>\n",
        "      <td> AZ</td>\n",
        "      <td> 1</td>\n",
        "    </tr>\n",
        "    <tr>\n",
        "      <th>4</th>\n",
        "      <td> CA</td>\n",
        "      <td> 5</td>\n",
        "    </tr>\n",
        "  </tbody>\n",
        "</table>\n",
        "</div>"
       ],
       "metadata": {},
       "output_type": "pyout",
       "prompt_number": 24,
       "text": [
        "  State  Bases\n",
        "0    AK      2\n",
        "1    AL      1\n",
        "2    AR      2\n",
        "3    AZ      1\n",
        "4    CA      5"
       ]
      }
     ],
     "prompt_number": 24
    },
    {
     "cell_type": "markdown",
     "metadata": {},
     "source": [
      "The following is where we map the data to the json shapefile. It then gets overlayed a leaflet map provided by folium. We chose stamen toner as it has the black background which allows the colors to be distringuished better. The location coordinates allws the map to begin centered around the USA. We define the columns to map on with the \"colunms\" value. the data_out value lets us set the name fo the json file that folium maps to teh created html file. The json value contains the values that we mapped, joined by the columns we defined. We decided on the Yellow-Red spectrum as it may be more vibrant to distinguish during the presentation. We introduce the threshold_scale to ensure that the bins and their values/color scheme are displayed properly. Finally we map the data and save it to an html file."
     ]
    },
    {
     "cell_type": "code",
     "collapsed": false,
     "input": [
      "basemap = folium.Map(location=[48, -102],tiles='Stamen Toner', zoom_start=3)\n",
      "basemap.geo_json(geo_path=jsonshape, data=base_data,\n",
      "                 columns=['State', 'Bases'],\n",
      "                   key_on = 'feature.id',\n",
      "                   data_out = 'AFdata.json',\n",
      "                   threshold_scale=[0, 1, 2, 3, 4, 5],\n",
      "                   fill_color='YlOrRd', fill_opacity=0.7, line_opacity=0.2,\n",
      "                   legend_name='No. of AF Bases')\n",
      "basemap.create_map(path='AFbases_per_state.html')"
     ],
     "language": "python",
     "metadata": {},
     "outputs": [],
     "prompt_number": 25
    },
    {
     "cell_type": "markdown",
     "metadata": {},
     "source": [
      "Using Ipython display, we show off the html file that was created using folium and our cleaned data."
     ]
    },
    {
     "cell_type": "code",
     "collapsed": false,
     "input": [
      "HTML('<iframe src=AFbases_per_state.html width=\"980\" height=\"400\"></iframe>')"
     ],
     "language": "python",
     "metadata": {},
     "outputs": [
      {
       "html": [
        "<iframe src=AFbases_per_state.html width=\"980\" height=\"400\"></iframe>"
       ],
       "metadata": {},
       "output_type": "pyout",
       "prompt_number": 26,
       "text": [
        "<IPython.core.display.HTML object>"
       ]
      }
     ],
     "prompt_number": 26
    },
    {
     "cell_type": "heading",
     "level": 2,
     "metadata": {},
     "source": [
      "Historical Sightings by State"
     ]
    },
    {
     "cell_type": "markdown",
     "metadata": {},
     "source": [
      "The next data set we decided to map with folium was the number of historical sightings by state. We begin by saving the pathname to be called with folium. Please note as state earlier, we are using the same jsonshape variable (and path) for all data heatmaps."
     ]
    },
    {
     "cell_type": "code",
     "collapsed": false,
     "input": [
      "sighting_data = r'Clean_data\\Sightings_by_state'"
     ],
     "language": "python",
     "metadata": {},
     "outputs": [],
     "prompt_number": 27
    },
    {
     "cell_type": "code",
     "collapsed": false,
     "input": [
      "sight_data = pd.read_csv(sighting_data, names = ['State', 'Sightings'])"
     ],
     "language": "python",
     "metadata": {},
     "outputs": [],
     "prompt_number": 28
    },
    {
     "cell_type": "code",
     "collapsed": false,
     "input": [
      "sight_data.head()"
     ],
     "language": "python",
     "metadata": {},
     "outputs": [
      {
       "html": [
        "<div style=\"max-height:1000px;max-width:1500px;overflow:auto;\">\n",
        "<table border=\"1\" class=\"dataframe\">\n",
        "  <thead>\n",
        "    <tr style=\"text-align: right;\">\n",
        "      <th></th>\n",
        "      <th>State</th>\n",
        "      <th>Sightings</th>\n",
        "    </tr>\n",
        "  </thead>\n",
        "  <tbody>\n",
        "    <tr>\n",
        "      <th>0</th>\n",
        "      <td> AB</td>\n",
        "      <td>  395</td>\n",
        "    </tr>\n",
        "    <tr>\n",
        "      <th>1</th>\n",
        "      <td> AK</td>\n",
        "      <td>  393</td>\n",
        "    </tr>\n",
        "    <tr>\n",
        "      <th>2</th>\n",
        "      <td> AL</td>\n",
        "      <td>  811</td>\n",
        "    </tr>\n",
        "    <tr>\n",
        "      <th>3</th>\n",
        "      <td> AR</td>\n",
        "      <td>  734</td>\n",
        "    </tr>\n",
        "    <tr>\n",
        "      <th>4</th>\n",
        "      <td> AZ</td>\n",
        "      <td> 2992</td>\n",
        "    </tr>\n",
        "  </tbody>\n",
        "</table>\n",
        "</div>"
       ],
       "metadata": {},
       "output_type": "pyout",
       "prompt_number": 29,
       "text": [
        "  State  Sightings\n",
        "0    AB        395\n",
        "1    AK        393\n",
        "2    AL        811\n",
        "3    AR        734\n",
        "4    AZ       2992"
       ]
      }
     ],
     "prompt_number": 29
    },
    {
     "cell_type": "code",
     "collapsed": false,
     "input": [
      "sight_map = folium.Map(location=[48, -102],tiles='Stamen Toner', zoom_start=3)\n",
      "sight_map.geo_json(geo_path=jsonshape, data=sight_data,\n",
      "                   columns=['State', 'Sightings'],\n",
      "                   key_on = 'feature.id',\n",
      "                   data_out = 'sightps.json',\n",
      "                   threshold_scale=[0, 600, 1200, 1800, 2400, 3000],\n",
      "                   fill_color='YlOrRd', fill_opacity=0.7, line_opacity=0.2,\n",
      "                   legend_name='UFO Sightings')\n",
      "sight_map.create_map(path='Sightings_per_state.html')"
     ],
     "language": "python",
     "metadata": {},
     "outputs": [],
     "prompt_number": 30
    },
    {
     "cell_type": "code",
     "collapsed": false,
     "input": [
      "HTML('<iframe src=Sightings_per_state.html width=\"980\" height=\"400\"></iframe>')"
     ],
     "language": "python",
     "metadata": {},
     "outputs": [
      {
       "html": [
        "<iframe src=Sightings_per_state.html width=\"980\" height=\"400\"></iframe>"
       ],
       "metadata": {},
       "output_type": "pyout",
       "prompt_number": 31,
       "text": [
        "<IPython.core.display.HTML object>"
       ]
      }
     ],
     "prompt_number": 31
    },
    {
     "cell_type": "heading",
     "level": 2,
     "metadata": {},
     "source": [
      "Sightings Per Person per State"
     ]
    },
    {
     "cell_type": "markdown",
     "metadata": {},
     "source": [
      "For the next heatmap, we took the sightings per state data and introduced the population data to it. This gave us sightings per person by state."
     ]
    },
    {
     "cell_type": "code",
     "collapsed": false,
     "input": [
      "jsonshape2 = r'Shape_files/stateshape2.json'\n",
      "sighting_population_data = r'Clean_data/State_Population_Sightings'"
     ],
     "language": "python",
     "metadata": {},
     "outputs": [],
     "prompt_number": 32
    },
    {
     "cell_type": "code",
     "collapsed": false,
     "input": [
      "sightingpop_data = pd.read_csv(sighting_population_data)\n",
      "sightingpop_data.head()"
     ],
     "language": "python",
     "metadata": {},
     "outputs": [
      {
       "html": [
        "<div style=\"max-height:1000px;max-width:1500px;overflow:auto;\">\n",
        "<table border=\"1\" class=\"dataframe\">\n",
        "  <thead>\n",
        "    <tr style=\"text-align: right;\">\n",
        "      <th></th>\n",
        "      <th>State</th>\n",
        "      <th>Population</th>\n",
        "      <th>Posted</th>\n",
        "      <th>SightingPerPerson</th>\n",
        "    </tr>\n",
        "  </thead>\n",
        "  <tbody>\n",
        "    <tr>\n",
        "      <th>0</th>\n",
        "      <td> AL</td>\n",
        "      <td>  4833722</td>\n",
        "      <td>   811</td>\n",
        "      <td> 1.677796</td>\n",
        "    </tr>\n",
        "    <tr>\n",
        "      <th>1</th>\n",
        "      <td> AK</td>\n",
        "      <td>   735132</td>\n",
        "      <td>   393</td>\n",
        "      <td> 5.345979</td>\n",
        "    </tr>\n",
        "    <tr>\n",
        "      <th>2</th>\n",
        "      <td> AZ</td>\n",
        "      <td>  6626624</td>\n",
        "      <td>  2992</td>\n",
        "      <td> 4.515120</td>\n",
        "    </tr>\n",
        "    <tr>\n",
        "      <th>3</th>\n",
        "      <td> AR</td>\n",
        "      <td>  2959373</td>\n",
        "      <td>   734</td>\n",
        "      <td> 2.480255</td>\n",
        "    </tr>\n",
        "    <tr>\n",
        "      <th>4</th>\n",
        "      <td> CA</td>\n",
        "      <td> 38332521</td>\n",
        "      <td> 10537</td>\n",
        "      <td> 2.748841</td>\n",
        "    </tr>\n",
        "  </tbody>\n",
        "</table>\n",
        "</div>"
       ],
       "metadata": {},
       "output_type": "pyout",
       "prompt_number": 33,
       "text": [
        "  State  Population  Posted  SightingPerPerson\n",
        "0    AL     4833722     811           1.677796\n",
        "1    AK      735132     393           5.345979\n",
        "2    AZ     6626624    2992           4.515120\n",
        "3    AR     2959373     734           2.480255\n",
        "4    CA    38332521   10537           2.748841"
       ]
      }
     ],
     "prompt_number": 33
    },
    {
     "cell_type": "code",
     "collapsed": false,
     "input": [
      "sightingpop_data.SightingPerPerson.value_counts();"
     ],
     "language": "python",
     "metadata": {},
     "outputs": [],
     "prompt_number": 34
    },
    {
     "cell_type": "code",
     "collapsed": false,
     "input": [
      "sightpp_map = folium.Map(location=[48, -102],tiles='Stamen Toner', zoom_start=3)\n",
      "sightpp_map.geo_json(geo_path=jsonshape2, data=sightingpop_data,\n",
      "                   columns=['State', 'SightingPerPerson'],\n",
      "                   key_on = 'feature.id',\n",
      "                   data_out = 'sightpps.json',\n",
      "                   threshold_scale=[0,1,2,3,4,5],\n",
      "                   #threshold_scale=[0.00, 0.01, 0.02, 0.03],\n",
      "                   fill_color='YlOrRd', fill_opacity=0.7, line_opacity=0.2,\n",
      "                   legend_name='Sightings per 10,000 people')\n",
      "sightpp_map.create_map(path='Sightings_pp_per_state.html')"
     ],
     "language": "python",
     "metadata": {},
     "outputs": [],
     "prompt_number": 35
    },
    {
     "cell_type": "code",
     "collapsed": false,
     "input": [
      "HTML('<iframe src=Sightings_pp_per_state.html width=\"980\" height=\"400\"></iframe>')"
     ],
     "language": "python",
     "metadata": {},
     "outputs": [
      {
       "html": [
        "<iframe src=Sightings_pp_per_state.html width=\"980\" height=\"400\"></iframe>"
       ],
       "metadata": {},
       "output_type": "pyout",
       "prompt_number": 36,
       "text": [
        "<IPython.core.display.HTML object>"
       ]
      }
     ],
     "prompt_number": 36
    },
    {
     "cell_type": "heading",
     "level": 2,
     "metadata": {},
     "source": [
      "Light Shaped Sighting by State"
     ]
    },
    {
     "cell_type": "markdown",
     "metadata": {},
     "source": [
      "For this analysis, we took the number of sightings that were described by Light and grouped them by state. "
     ]
    },
    {
     "cell_type": "code",
     "collapsed": false,
     "input": [
      "light_state_data = r'Clean_data/Light_state'"
     ],
     "language": "python",
     "metadata": {},
     "outputs": [],
     "prompt_number": 37
    },
    {
     "cell_type": "code",
     "collapsed": false,
     "input": [
      "light_data = pd.read_csv(light_state_data)\n",
      "light_data.head()"
     ],
     "language": "python",
     "metadata": {},
     "outputs": [
      {
       "html": [
        "<div style=\"max-height:1000px;max-width:1500px;overflow:auto;\">\n",
        "<table border=\"1\" class=\"dataframe\">\n",
        "  <thead>\n",
        "    <tr style=\"text-align: right;\">\n",
        "      <th></th>\n",
        "      <th>State</th>\n",
        "      <th>Light_sightings</th>\n",
        "    </tr>\n",
        "  </thead>\n",
        "  <tbody>\n",
        "    <tr>\n",
        "      <th>0</th>\n",
        "      <td> AB</td>\n",
        "      <td>  82</td>\n",
        "    </tr>\n",
        "    <tr>\n",
        "      <th>1</th>\n",
        "      <td> AK</td>\n",
        "      <td> 109</td>\n",
        "    </tr>\n",
        "    <tr>\n",
        "      <th>2</th>\n",
        "      <td> AL</td>\n",
        "      <td> 169</td>\n",
        "    </tr>\n",
        "    <tr>\n",
        "      <th>3</th>\n",
        "      <td> AR</td>\n",
        "      <td> 161</td>\n",
        "    </tr>\n",
        "    <tr>\n",
        "      <th>4</th>\n",
        "      <td> AZ</td>\n",
        "      <td> 688</td>\n",
        "    </tr>\n",
        "  </tbody>\n",
        "</table>\n",
        "</div>"
       ],
       "metadata": {},
       "output_type": "pyout",
       "prompt_number": 38,
       "text": [
        "  State  Light_sightings\n",
        "0    AB               82\n",
        "1    AK              109\n",
        "2    AL              169\n",
        "3    AR              161\n",
        "4    AZ              688"
       ]
      }
     ],
     "prompt_number": 38
    },
    {
     "cell_type": "code",
     "collapsed": false,
     "input": [
      "light_map = folium.Map(location=[48, -102],tiles='Stamen Toner', zoom_start=3)\n",
      "light_map.geo_json(geo_path=jsonshape, data=light_data,\n",
      "                   columns=['State', 'Light_sightings'],\n",
      "                   key_on = 'feature.id',\n",
      "                   data_out = 'lightshape.json',\n",
      "                   threshold_scale=[200,400,600,800,1000,1200],\n",
      "                   #threshold_scale=[0.00, 0.01, 0.02, 0.03],\n",
      "                   fill_color='YlOrRd', fill_opacity=0.7, line_opacity=0.2,\n",
      "                   legend_name='Sightings of Light shape UFO')\n",
      "light_map.create_map(path='Light_sightings.html')"
     ],
     "language": "python",
     "metadata": {},
     "outputs": [],
     "prompt_number": 39
    },
    {
     "cell_type": "code",
     "collapsed": false,
     "input": [
      "HTML('<iframe src=Light_sightings.html width=\"980\" height=\"400\"></iframe>')"
     ],
     "language": "python",
     "metadata": {},
     "outputs": [
      {
       "html": [
        "<iframe src=Light_sightings.html width=\"980\" height=\"400\"></iframe>"
       ],
       "metadata": {},
       "output_type": "pyout",
       "prompt_number": 40,
       "text": [
        "<IPython.core.display.HTML object>"
       ]
      }
     ],
     "prompt_number": 40
    },
    {
     "cell_type": "code",
     "collapsed": false,
     "input": [],
     "language": "python",
     "metadata": {},
     "outputs": [],
     "prompt_number": 40
    }
   ],
   "metadata": {}
  }
 ]
}